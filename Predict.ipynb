{
 "cells": [
  {
   "cell_type": "markdown",
   "id": "2363817b-7c14-4ca1-b983-c37d05ca41a5",
   "metadata": {},
   "source": [
    "<h2>Проект предсказания велечины заработной платы вакансий</h2>"
   ]
  },
  {
   "cell_type": "code",
   "execution_count": 10,
   "id": "01847877-7e8d-4fbf-a2f7-de1228f38d87",
   "metadata": {},
   "outputs": [],
   "source": [
    "# Основные библиотеки\n",
    "import copy\n",
    "import json\n",
    "import os\n",
    "import pickle\n",
    "import re\n",
    "import time\n",
    "from collections import Counter\n",
    "\n",
    "import numpy as np\n",
    "import pandas as pd\n",
    "import requests\n",
    "import plotly.express as px\n",
    "from sklearn.ensemble import RandomForestRegressor\n",
    "from sklearn.metrics import mean_absolute_error, mean_squared_error\n",
    "from sklearn.model_selection import cross_val_score, train_test_split\n",
    "from sklearn.neighbors import KNeighborsRegressor\n",
    "from sklearn.preprocessing import OneHotEncoder\n",
    "import xgboost"
   ]
  },
  {
   "cell_type": "code",
   "execution_count": 3,
   "id": "ff532887-5009-4ebe-996b-55dff5da7458",
   "metadata": {},
   "outputs": [],
   "source": [
    "# Функции для получения данных с hh.ru api\n",
    "\n",
    "def get_page(params: dict, vac: str, page: int = 0) -> str:\n",
    "    \"\"\"Получает данные с стайта hh.ru и спользованием API\n",
    "    на основе заданных параметров\"\"\"\n",
    "    params[\"page\"] = page\n",
    "    params[\"text\"] = vac\n",
    "    req = requests.get(\"https://api.hh.ru/vacancies\", params)  # Посылаем запрос к API\n",
    "    data = (\n",
    "        req.content.decode()\n",
    "    )  # Декодируем его ответ, чтобы Кириллица отображалась корректно\n",
    "    req.close()\n",
    "    return data\n",
    "\n",
    "\n",
    "def get_additional_information(url: str) -> dict:\n",
    "    \"Выводит дополнительную информацию о вакансии\"\n",
    "    with requests.get(url) as req:\n",
    "        data = req.content.decode()\n",
    "    return json.loads(data)\n",
    "\n",
    "\n",
    "def get_frame_with_salary(df: pd.DataFrame) -> pd.DataFrame:\n",
    "    df.loc[(df[\"salary_to\"] != 0) & (df[\"salary_from\"] != 0), \"salary\"] = (\n",
    "        df[\"salary_to\"] + df[\"salary_from\"]\n",
    "    ) // 2\n",
    "    df.loc[df[\"salary_to\"] != 0, \"salary\"] = df[\"salary_to\"]\n",
    "    df.loc[(df[\"salary_to\"] == 0) & (df[\"salary_from\"] != 0), \"salary\"] = df[\n",
    "        \"salary_from\"\n",
    "    ]\n",
    "    df.loc[(df[\"salary_to\"] == 0) & (df[\"salary_from\"] == 0), \"salary\"] = 0\n",
    "    df.loc[df[\"currency\"] == \"RUB\", \"currency_coin\"] = 1\n",
    "    df.loc[df[\"currency\"] == \"RUR\", \"currency_coin\"] = 1\n",
    "    df.loc[df[\"currency\"] == \"USD\", \"currency_coin\"] = 78\n",
    "    df.loc[df[\"currency\"] == \"EUR\", \"currency_coin\"] = 83\n",
    "    df.loc[df[\"currency\"] == \"KZT\", \"currency_coin\"] = 0.17\n",
    "    df.loc[df[\"currency\"].isna(), \"currency_coin\"] = 0\n",
    "    df[\"salary\"] = df[\"salary\"] * df[\"currency_coin\"] / 1000\n",
    "    # df[\"salary_round\"] = df[\"salary\"].apply(lambda x: round(x, -2))\n",
    "\n",
    "    return df\n",
    "\n",
    "\n",
    "def get_description_vacancies(json_items: list) -> list:\n",
    "    \"\"\"Выводит список словарей, описывающих вакансии\n",
    "    Функция получения списка описания вакансий по заданным параметрам\n",
    "    Основные параметры:\n",
    "    id вакансии\n",
    "    Название вакансии\n",
    "    Место расположения офиса (по умолчанию выбран регион - Москва)\n",
    "    Зарплата от\n",
    "    Зарплата до\n",
    "    Валюта\n",
    "    Компания-работодатель\n",
    "    График работы\"\"\"\n",
    "    description_vacancies = []\n",
    "    json_copy = json_items.copy()\n",
    "    for items in json_copy:\n",
    "        description = {}\n",
    "        skills = []\n",
    "        add_info = get_additional_information(items.get(\"url\"))\n",
    "        if add_info:\n",
    "            description[\"id\"] = add_info.get(\"id\", 0)\n",
    "            description[\"vacancy\"] = add_info.get(\"name\", \"unknow\")\n",
    "            description[\"area\"] = (\n",
    "                add_info.get(\"area\").get(\"name\")\n",
    "                if add_info.get(\"area\", 0)\n",
    "                else \"unknow\"\n",
    "            )\n",
    "            description[\"salary_from\"] = (\n",
    "                add_info.get(\"salary\").get(\"from\", 0)\n",
    "                if add_info.get(\"salary\", 0)\n",
    "                else 0\n",
    "            )\n",
    "            description[\"salary_from\"] = (\n",
    "                description[\"salary_from\"] if description[\"salary_from\"] != None else 0\n",
    "            )\n",
    "            description[\"salary_to\"] = (\n",
    "                add_info.get(\"salary\").get(\"to\", 0) if add_info.get(\"salary\", 0) else 0\n",
    "            )\n",
    "            description[\"salary_to\"] = (\n",
    "                description[\"salary_to\"] if description[\"salary_to\"] != None else 0\n",
    "            )\n",
    "            description[\"currency\"] = (\n",
    "                add_info.get(\"salary\").get(\"currency\", \"RUB\")\n",
    "                if add_info.get(\"salary\", 0)\n",
    "                else \"RUB\"\n",
    "            )\n",
    "            description[\"employer\"] = (\n",
    "                add_info.get(\"employer\").get(\"name\")\n",
    "                if add_info.get(\"employer\", 0)\n",
    "                else \"unknow\"\n",
    "            )\n",
    "            description[\"schedule\"] = (\n",
    "                add_info.get(\"schedule\").get(\"name\")\n",
    "                if add_info.get(\"schedule\", 0)\n",
    "                else \"unknow\"\n",
    "            )\n",
    "            description[\"employment\"] = (\n",
    "                add_info.get(\"employment\").get(\"name\")\n",
    "                if add_info.get(\"employment\", 0)\n",
    "                else \"unknow\"\n",
    "            )\n",
    "            description[\"description\"] = add_info.get(\"description\", \"unknow\")\n",
    "            if add_info.get(\"key_skills\", 0):\n",
    "                for skill in add_info.get(\"key_skills\"):\n",
    "                    if skill.get(\"name\", 0):\n",
    "                        skills.append(skill.get(\"name\"))\n",
    "            description[\"skills\"] = \", \".join(skills)\n",
    "        if description:\n",
    "            description_vacancies.append(description)\n",
    "\n",
    "    return description_vacancies\n",
    "\n",
    "\n",
    "def get_vacancies(only_salary: bool) -> list:\n",
    "    PARAMS = {\n",
    "        \"area\": 1,  # Поиск ощуществляется по вакансиям города Москва\n",
    "        \"per_page\": 100,  # Кол-во вакансий на 1 странице\n",
    "        # \"only_with_salary\": True,  # Показывать вакансии с известной ЗП\n",
    "    }\n",
    "    if only_salary:\n",
    "        PARAMS[\"only_with_salary\"] = True\n",
    "    else:\n",
    "        PARAMS[\"only_with_salary\"] = False\n",
    "    # VACANCIES = [\"Data Science\", \"Data Scaentst\", \"ML\", \"ML engineer\", \"Big data\", \"Dev Ops\", \"DevOps\"]\n",
    "    VACANCIES = [\"Python\"]\n",
    "    lst_result = []\n",
    "    for name in VACANCIES:\n",
    "        vac = f\"NAME:{name}\"\n",
    "        for page in range(0, 7):\n",
    "            json_obj = json.loads(get_page(PARAMS, vac, page))\n",
    "            lst_result.append(json_obj)\n",
    "            time.sleep(0.25)\n",
    "    vacancies = []\n",
    "    for items in lst_result:\n",
    "        vacancy = get_description_vacancies(items[\"items\"])\n",
    "        if vacancy:\n",
    "            vacancies = vacancies + vacancy\n",
    "        time.sleep(0.25)\n",
    "\n",
    "    df = pd.DataFrame(vacancies)\n",
    "    df = df.drop_duplicates(keep=\"first\")\n",
    "    df = get_frame_with_salary(df)\n",
    "    tags = re.compile(r\"<[a-zA-Z /]*>\")\n",
    "    df[\"description\"] = df[\"description\"].apply(lambda x: re.sub(tags, \"\", x))\n",
    "    # return df\n",
    "    return df"
   ]
  },
  {
   "cell_type": "markdown",
   "id": "fdcdc5f7-06d0-4234-bdfc-e48723becd93",
   "metadata": {},
   "source": [
    "<h5>Получим данные загрузим их в датафрейм и посмотрим на них</h5>"
   ]
  },
  {
   "cell_type": "code",
   "execution_count": 5,
   "id": "6f3a01fd-3ffa-4e73-b1b6-19caad6bf776",
   "metadata": {},
   "outputs": [
    {
     "data": {
      "text/html": [
       "<div>\n",
       "<style scoped>\n",
       "    .dataframe tbody tr th:only-of-type {\n",
       "        vertical-align: middle;\n",
       "    }\n",
       "\n",
       "    .dataframe tbody tr th {\n",
       "        vertical-align: top;\n",
       "    }\n",
       "\n",
       "    .dataframe thead th {\n",
       "        text-align: right;\n",
       "    }\n",
       "</style>\n",
       "<table border=\"1\" class=\"dataframe\">\n",
       "  <thead>\n",
       "    <tr style=\"text-align: right;\">\n",
       "      <th></th>\n",
       "      <th>id</th>\n",
       "      <th>vacancy</th>\n",
       "      <th>area</th>\n",
       "      <th>salary_from</th>\n",
       "      <th>salary_to</th>\n",
       "      <th>currency</th>\n",
       "      <th>employer</th>\n",
       "      <th>schedule</th>\n",
       "      <th>employment</th>\n",
       "      <th>description</th>\n",
       "      <th>skills</th>\n",
       "      <th>salary</th>\n",
       "      <th>currency_coin</th>\n",
       "    </tr>\n",
       "  </thead>\n",
       "  <tbody>\n",
       "    <tr>\n",
       "      <th>0</th>\n",
       "      <td>54939886</td>\n",
       "      <td>Python разработчик</td>\n",
       "      <td>Москва</td>\n",
       "      <td>0</td>\n",
       "      <td>450000</td>\n",
       "      <td>RUR</td>\n",
       "      <td>Точка</td>\n",
       "      <td>Удаленная работа</td>\n",
       "      <td>Полная занятость</td>\n",
       "      <td>Ищем опытного питониста, который любит вызовы ...</td>\n",
       "      <td>Python, aiohttp, asyncio, Django Framework, Flask</td>\n",
       "      <td>450.0</td>\n",
       "      <td>1.0</td>\n",
       "    </tr>\n",
       "    <tr>\n",
       "      <th>1</th>\n",
       "      <td>48457284</td>\n",
       "      <td>Разработчик Solidity/Разработчик Rust/Разработ...</td>\n",
       "      <td>Москва</td>\n",
       "      <td>600000</td>\n",
       "      <td>0</td>\n",
       "      <td>RUR</td>\n",
       "      <td>ArtVolkov.ru</td>\n",
       "      <td>Гибкий график</td>\n",
       "      <td>Полная занятость</td>\n",
       "      <td>Что надо будет делать:  Проектировать, кодиров...</td>\n",
       "      <td>Английский язык, Rust, Лидерство, golang, go</td>\n",
       "      <td>600.0</td>\n",
       "      <td>1.0</td>\n",
       "    </tr>\n",
       "    <tr>\n",
       "      <th>2</th>\n",
       "      <td>55132214</td>\n",
       "      <td>Стажер-разработчик Python</td>\n",
       "      <td>Москва</td>\n",
       "      <td>20000</td>\n",
       "      <td>50000</td>\n",
       "      <td>RUR</td>\n",
       "      <td>Аналитические программные решения</td>\n",
       "      <td>Полный день</td>\n",
       "      <td>Полная занятость</td>\n",
       "      <td>Наша компания занимается разработкой решений в...</td>\n",
       "      <td>Python, PostgreSQL, MongoDB, REST, HTTP, Git, ...</td>\n",
       "      <td>50.0</td>\n",
       "      <td>1.0</td>\n",
       "    </tr>\n",
       "    <tr>\n",
       "      <th>3</th>\n",
       "      <td>54929214</td>\n",
       "      <td>Python Developer</td>\n",
       "      <td>Москва</td>\n",
       "      <td>250000</td>\n",
       "      <td>350000</td>\n",
       "      <td>RUR</td>\n",
       "      <td>АСД Технолоджиз</td>\n",
       "      <td>Полный день</td>\n",
       "      <td>Полная занятость</td>\n",
       "      <td>АСД Технолоджиз, разработчик платформы cloudik...</td>\n",
       "      <td></td>\n",
       "      <td>350.0</td>\n",
       "      <td>1.0</td>\n",
       "    </tr>\n",
       "    <tr>\n",
       "      <th>4</th>\n",
       "      <td>55202847</td>\n",
       "      <td>Разработчик Python</td>\n",
       "      <td>Москва</td>\n",
       "      <td>100000</td>\n",
       "      <td>200000</td>\n",
       "      <td>RUR</td>\n",
       "      <td>AISA</td>\n",
       "      <td>Полный день</td>\n",
       "      <td>Полная занятость</td>\n",
       "      <td>Мы предлагаем:  Обучение построению и использо...</td>\n",
       "      <td>Python, HTTP, REST, Linux, Docker, Docker-comp...</td>\n",
       "      <td>200.0</td>\n",
       "      <td>1.0</td>\n",
       "    </tr>\n",
       "  </tbody>\n",
       "</table>\n",
       "</div>"
      ],
      "text/plain": [
       "         id                                            vacancy    area  \\\n",
       "0  54939886                                 Python разработчик  Москва   \n",
       "1  48457284  Разработчик Solidity/Разработчик Rust/Разработ...  Москва   \n",
       "2  55132214                          Стажер-разработчик Python  Москва   \n",
       "3  54929214                                   Python Developer  Москва   \n",
       "4  55202847                                 Разработчик Python  Москва   \n",
       "\n",
       "   salary_from  salary_to currency                           employer  \\\n",
       "0            0     450000      RUR                              Точка   \n",
       "1       600000          0      RUR                       ArtVolkov.ru   \n",
       "2        20000      50000      RUR  Аналитические программные решения   \n",
       "3       250000     350000      RUR                    АСД Технолоджиз   \n",
       "4       100000     200000      RUR                               AISA   \n",
       "\n",
       "           schedule        employment  \\\n",
       "0  Удаленная работа  Полная занятость   \n",
       "1     Гибкий график  Полная занятость   \n",
       "2       Полный день  Полная занятость   \n",
       "3       Полный день  Полная занятость   \n",
       "4       Полный день  Полная занятость   \n",
       "\n",
       "                                         description  \\\n",
       "0  Ищем опытного питониста, который любит вызовы ...   \n",
       "1  Что надо будет делать:  Проектировать, кодиров...   \n",
       "2  Наша компания занимается разработкой решений в...   \n",
       "3  АСД Технолоджиз, разработчик платформы cloudik...   \n",
       "4  Мы предлагаем:  Обучение построению и использо...   \n",
       "\n",
       "                                              skills  salary  currency_coin  \n",
       "0  Python, aiohttp, asyncio, Django Framework, Flask   450.0            1.0  \n",
       "1       Английский язык, Rust, Лидерство, golang, go   600.0            1.0  \n",
       "2  Python, PostgreSQL, MongoDB, REST, HTTP, Git, ...    50.0            1.0  \n",
       "3                                                      350.0            1.0  \n",
       "4  Python, HTTP, REST, Linux, Docker, Docker-comp...   200.0            1.0  "
      ]
     },
     "execution_count": 5,
     "metadata": {},
     "output_type": "execute_result"
    }
   ],
   "source": [
    "df = get_vacancies(True)\n",
    "df.head()"
   ]
  },
  {
   "cell_type": "markdown",
   "id": "b84ab40b-ac3d-4eba-92dd-8ea89fa1494a",
   "metadata": {},
   "source": [
    "Целевой переменной выступает столбец salary. Посмотрим на его распределение. "
   ]
  },
  {
   "cell_type": "code",
   "execution_count": 66,
   "id": "996e716a-e2f2-4ad2-84b8-4caba139320f",
   "metadata": {},
   "outputs": [],
   "source": [
    "mean = np.round(df[\"salary\"].mean())\n",
    "median = np.median(df[\"salary\"])"
   ]
  },
  {
   "cell_type": "code",
   "execution_count": 68,
   "id": "6a372f2e-93cb-4445-b158-c91384e54d1e",
   "metadata": {},
   "outputs": [
    {
     "name": "stdout",
     "output_type": "stream",
     "text": [
      "mean salary: 254.0  median salary:230.0\n"
     ]
    }
   ],
   "source": [
    "print(f\"mean salary: {mean}  median salary:{median}\")"
   ]
  },
  {
   "cell_type": "code",
   "execution_count": 22,
   "id": "fbd816fb-5a58-409e-ab94-33e36e3e6e45",
   "metadata": {},
   "outputs": [
    {
     "data": {
      "application/vnd.plotly.v1+json": {
       "config": {
        "plotlyServerURL": "https://plot.ly"
       },
       "data": [
        {
         "alignmentgroup": "True",
         "bingroup": "x",
         "hovertemplate": "variable=salary<br>value=%{x}<br>count=%{y}<extra></extra>",
         "legendgroup": "salary",
         "marker": {
          "color": "#636efa",
          "pattern": {
           "shape": ""
          }
         },
         "name": "salary",
         "nbinsx": 40,
         "offsetgroup": "salary",
         "orientation": "v",
         "showlegend": true,
         "type": "histogram",
         "x": [
          450,
          600,
          50,
          350,
          200,
          70,
          250,
          130,
          200,
          150,
          300,
          300,
          450,
          200,
          280,
          200,
          546,
          180,
          220,
          507,
          250,
          70,
          450,
          400,
          663,
          200,
          180,
          166,
          200,
          350,
          175,
          250,
          450,
          273,
          200,
          320,
          200,
          210,
          300,
          45,
          180,
          220,
          273,
          468,
          350,
          180,
          195,
          858,
          270,
          170,
          400,
          350,
          300,
          150,
          240,
          150,
          150,
          70,
          330,
          180,
          250,
          273,
          55,
          150,
          235,
          332,
          249,
          210,
          270,
          80,
          230,
          300,
          249,
          250,
          200,
          330,
          390,
          160,
          300,
          140,
          332,
          400,
          150,
          65,
          200,
          380,
          130,
          160,
          507,
          250,
          135,
          140,
          350,
          300,
          90,
          160,
          400,
          250,
          780,
          120,
          200,
          230,
          400,
          200,
          150,
          400,
          130,
          600,
          332,
          170,
          300,
          400,
          250,
          500,
          250,
          150,
          390,
          234,
          80,
          230,
          400,
          373.5,
          150,
          350,
          300,
          82,
          415,
          160,
          280,
          300,
          160,
          200,
          180,
          350,
          250,
          400,
          250,
          100,
          180,
          250,
          250,
          200,
          390,
          350,
          300,
          150,
          220,
          400,
          180,
          250,
          375,
          158,
          200,
          234,
          200,
          150,
          150,
          270,
          260,
          250,
          200,
          400,
          90,
          624,
          75,
          400,
          200,
          200,
          150,
          250,
          250,
          150,
          80,
          180,
          220,
          80,
          80,
          120,
          250,
          312,
          180,
          300,
          60,
          35,
          100,
          140,
          210,
          220
         ],
         "xaxis": "x",
         "yaxis": "y"
        }
       ],
       "layout": {
        "autosize": true,
        "barmode": "relative",
        "legend": {
         "title": {
          "text": "variable"
         },
         "tracegroupgap": 0
        },
        "margin": {
         "t": 60
        },
        "template": {
         "data": {
          "bar": [
           {
            "error_x": {
             "color": "#2a3f5f"
            },
            "error_y": {
             "color": "#2a3f5f"
            },
            "marker": {
             "line": {
              "color": "#E5ECF6",
              "width": 0.5
             },
             "pattern": {
              "fillmode": "overlay",
              "size": 10,
              "solidity": 0.2
             }
            },
            "type": "bar"
           }
          ],
          "barpolar": [
           {
            "marker": {
             "line": {
              "color": "#E5ECF6",
              "width": 0.5
             },
             "pattern": {
              "fillmode": "overlay",
              "size": 10,
              "solidity": 0.2
             }
            },
            "type": "barpolar"
           }
          ],
          "carpet": [
           {
            "aaxis": {
             "endlinecolor": "#2a3f5f",
             "gridcolor": "white",
             "linecolor": "white",
             "minorgridcolor": "white",
             "startlinecolor": "#2a3f5f"
            },
            "baxis": {
             "endlinecolor": "#2a3f5f",
             "gridcolor": "white",
             "linecolor": "white",
             "minorgridcolor": "white",
             "startlinecolor": "#2a3f5f"
            },
            "type": "carpet"
           }
          ],
          "choropleth": [
           {
            "colorbar": {
             "outlinewidth": 0,
             "ticks": ""
            },
            "type": "choropleth"
           }
          ],
          "contour": [
           {
            "colorbar": {
             "outlinewidth": 0,
             "ticks": ""
            },
            "colorscale": [
             [
              0,
              "#0d0887"
             ],
             [
              0.1111111111111111,
              "#46039f"
             ],
             [
              0.2222222222222222,
              "#7201a8"
             ],
             [
              0.3333333333333333,
              "#9c179e"
             ],
             [
              0.4444444444444444,
              "#bd3786"
             ],
             [
              0.5555555555555556,
              "#d8576b"
             ],
             [
              0.6666666666666666,
              "#ed7953"
             ],
             [
              0.7777777777777778,
              "#fb9f3a"
             ],
             [
              0.8888888888888888,
              "#fdca26"
             ],
             [
              1,
              "#f0f921"
             ]
            ],
            "type": "contour"
           }
          ],
          "contourcarpet": [
           {
            "colorbar": {
             "outlinewidth": 0,
             "ticks": ""
            },
            "type": "contourcarpet"
           }
          ],
          "heatmap": [
           {
            "colorbar": {
             "outlinewidth": 0,
             "ticks": ""
            },
            "colorscale": [
             [
              0,
              "#0d0887"
             ],
             [
              0.1111111111111111,
              "#46039f"
             ],
             [
              0.2222222222222222,
              "#7201a8"
             ],
             [
              0.3333333333333333,
              "#9c179e"
             ],
             [
              0.4444444444444444,
              "#bd3786"
             ],
             [
              0.5555555555555556,
              "#d8576b"
             ],
             [
              0.6666666666666666,
              "#ed7953"
             ],
             [
              0.7777777777777778,
              "#fb9f3a"
             ],
             [
              0.8888888888888888,
              "#fdca26"
             ],
             [
              1,
              "#f0f921"
             ]
            ],
            "type": "heatmap"
           }
          ],
          "heatmapgl": [
           {
            "colorbar": {
             "outlinewidth": 0,
             "ticks": ""
            },
            "colorscale": [
             [
              0,
              "#0d0887"
             ],
             [
              0.1111111111111111,
              "#46039f"
             ],
             [
              0.2222222222222222,
              "#7201a8"
             ],
             [
              0.3333333333333333,
              "#9c179e"
             ],
             [
              0.4444444444444444,
              "#bd3786"
             ],
             [
              0.5555555555555556,
              "#d8576b"
             ],
             [
              0.6666666666666666,
              "#ed7953"
             ],
             [
              0.7777777777777778,
              "#fb9f3a"
             ],
             [
              0.8888888888888888,
              "#fdca26"
             ],
             [
              1,
              "#f0f921"
             ]
            ],
            "type": "heatmapgl"
           }
          ],
          "histogram": [
           {
            "marker": {
             "pattern": {
              "fillmode": "overlay",
              "size": 10,
              "solidity": 0.2
             }
            },
            "type": "histogram"
           }
          ],
          "histogram2d": [
           {
            "colorbar": {
             "outlinewidth": 0,
             "ticks": ""
            },
            "colorscale": [
             [
              0,
              "#0d0887"
             ],
             [
              0.1111111111111111,
              "#46039f"
             ],
             [
              0.2222222222222222,
              "#7201a8"
             ],
             [
              0.3333333333333333,
              "#9c179e"
             ],
             [
              0.4444444444444444,
              "#bd3786"
             ],
             [
              0.5555555555555556,
              "#d8576b"
             ],
             [
              0.6666666666666666,
              "#ed7953"
             ],
             [
              0.7777777777777778,
              "#fb9f3a"
             ],
             [
              0.8888888888888888,
              "#fdca26"
             ],
             [
              1,
              "#f0f921"
             ]
            ],
            "type": "histogram2d"
           }
          ],
          "histogram2dcontour": [
           {
            "colorbar": {
             "outlinewidth": 0,
             "ticks": ""
            },
            "colorscale": [
             [
              0,
              "#0d0887"
             ],
             [
              0.1111111111111111,
              "#46039f"
             ],
             [
              0.2222222222222222,
              "#7201a8"
             ],
             [
              0.3333333333333333,
              "#9c179e"
             ],
             [
              0.4444444444444444,
              "#bd3786"
             ],
             [
              0.5555555555555556,
              "#d8576b"
             ],
             [
              0.6666666666666666,
              "#ed7953"
             ],
             [
              0.7777777777777778,
              "#fb9f3a"
             ],
             [
              0.8888888888888888,
              "#fdca26"
             ],
             [
              1,
              "#f0f921"
             ]
            ],
            "type": "histogram2dcontour"
           }
          ],
          "mesh3d": [
           {
            "colorbar": {
             "outlinewidth": 0,
             "ticks": ""
            },
            "type": "mesh3d"
           }
          ],
          "parcoords": [
           {
            "line": {
             "colorbar": {
              "outlinewidth": 0,
              "ticks": ""
             }
            },
            "type": "parcoords"
           }
          ],
          "pie": [
           {
            "automargin": true,
            "type": "pie"
           }
          ],
          "scatter": [
           {
            "fillpattern": {
             "fillmode": "overlay",
             "size": 10,
             "solidity": 0.2
            },
            "type": "scatter"
           }
          ],
          "scatter3d": [
           {
            "line": {
             "colorbar": {
              "outlinewidth": 0,
              "ticks": ""
             }
            },
            "marker": {
             "colorbar": {
              "outlinewidth": 0,
              "ticks": ""
             }
            },
            "type": "scatter3d"
           }
          ],
          "scattercarpet": [
           {
            "marker": {
             "colorbar": {
              "outlinewidth": 0,
              "ticks": ""
             }
            },
            "type": "scattercarpet"
           }
          ],
          "scattergeo": [
           {
            "marker": {
             "colorbar": {
              "outlinewidth": 0,
              "ticks": ""
             }
            },
            "type": "scattergeo"
           }
          ],
          "scattergl": [
           {
            "marker": {
             "colorbar": {
              "outlinewidth": 0,
              "ticks": ""
             }
            },
            "type": "scattergl"
           }
          ],
          "scattermapbox": [
           {
            "marker": {
             "colorbar": {
              "outlinewidth": 0,
              "ticks": ""
             }
            },
            "type": "scattermapbox"
           }
          ],
          "scatterpolar": [
           {
            "marker": {
             "colorbar": {
              "outlinewidth": 0,
              "ticks": ""
             }
            },
            "type": "scatterpolar"
           }
          ],
          "scatterpolargl": [
           {
            "marker": {
             "colorbar": {
              "outlinewidth": 0,
              "ticks": ""
             }
            },
            "type": "scatterpolargl"
           }
          ],
          "scatterternary": [
           {
            "marker": {
             "colorbar": {
              "outlinewidth": 0,
              "ticks": ""
             }
            },
            "type": "scatterternary"
           }
          ],
          "surface": [
           {
            "colorbar": {
             "outlinewidth": 0,
             "ticks": ""
            },
            "colorscale": [
             [
              0,
              "#0d0887"
             ],
             [
              0.1111111111111111,
              "#46039f"
             ],
             [
              0.2222222222222222,
              "#7201a8"
             ],
             [
              0.3333333333333333,
              "#9c179e"
             ],
             [
              0.4444444444444444,
              "#bd3786"
             ],
             [
              0.5555555555555556,
              "#d8576b"
             ],
             [
              0.6666666666666666,
              "#ed7953"
             ],
             [
              0.7777777777777778,
              "#fb9f3a"
             ],
             [
              0.8888888888888888,
              "#fdca26"
             ],
             [
              1,
              "#f0f921"
             ]
            ],
            "type": "surface"
           }
          ],
          "table": [
           {
            "cells": {
             "fill": {
              "color": "#EBF0F8"
             },
             "line": {
              "color": "white"
             }
            },
            "header": {
             "fill": {
              "color": "#C8D4E3"
             },
             "line": {
              "color": "white"
             }
            },
            "type": "table"
           }
          ]
         },
         "layout": {
          "annotationdefaults": {
           "arrowcolor": "#2a3f5f",
           "arrowhead": 0,
           "arrowwidth": 1
          },
          "autotypenumbers": "strict",
          "coloraxis": {
           "colorbar": {
            "outlinewidth": 0,
            "ticks": ""
           }
          },
          "colorscale": {
           "diverging": [
            [
             0,
             "#8e0152"
            ],
            [
             0.1,
             "#c51b7d"
            ],
            [
             0.2,
             "#de77ae"
            ],
            [
             0.3,
             "#f1b6da"
            ],
            [
             0.4,
             "#fde0ef"
            ],
            [
             0.5,
             "#f7f7f7"
            ],
            [
             0.6,
             "#e6f5d0"
            ],
            [
             0.7,
             "#b8e186"
            ],
            [
             0.8,
             "#7fbc41"
            ],
            [
             0.9,
             "#4d9221"
            ],
            [
             1,
             "#276419"
            ]
           ],
           "sequential": [
            [
             0,
             "#0d0887"
            ],
            [
             0.1111111111111111,
             "#46039f"
            ],
            [
             0.2222222222222222,
             "#7201a8"
            ],
            [
             0.3333333333333333,
             "#9c179e"
            ],
            [
             0.4444444444444444,
             "#bd3786"
            ],
            [
             0.5555555555555556,
             "#d8576b"
            ],
            [
             0.6666666666666666,
             "#ed7953"
            ],
            [
             0.7777777777777778,
             "#fb9f3a"
            ],
            [
             0.8888888888888888,
             "#fdca26"
            ],
            [
             1,
             "#f0f921"
            ]
           ],
           "sequentialminus": [
            [
             0,
             "#0d0887"
            ],
            [
             0.1111111111111111,
             "#46039f"
            ],
            [
             0.2222222222222222,
             "#7201a8"
            ],
            [
             0.3333333333333333,
             "#9c179e"
            ],
            [
             0.4444444444444444,
             "#bd3786"
            ],
            [
             0.5555555555555556,
             "#d8576b"
            ],
            [
             0.6666666666666666,
             "#ed7953"
            ],
            [
             0.7777777777777778,
             "#fb9f3a"
            ],
            [
             0.8888888888888888,
             "#fdca26"
            ],
            [
             1,
             "#f0f921"
            ]
           ]
          },
          "colorway": [
           "#636efa",
           "#EF553B",
           "#00cc96",
           "#ab63fa",
           "#FFA15A",
           "#19d3f3",
           "#FF6692",
           "#B6E880",
           "#FF97FF",
           "#FECB52"
          ],
          "font": {
           "color": "#2a3f5f"
          },
          "geo": {
           "bgcolor": "white",
           "lakecolor": "white",
           "landcolor": "#E5ECF6",
           "showlakes": true,
           "showland": true,
           "subunitcolor": "white"
          },
          "hoverlabel": {
           "align": "left"
          },
          "hovermode": "closest",
          "mapbox": {
           "style": "light"
          },
          "paper_bgcolor": "white",
          "plot_bgcolor": "#E5ECF6",
          "polar": {
           "angularaxis": {
            "gridcolor": "white",
            "linecolor": "white",
            "ticks": ""
           },
           "bgcolor": "#E5ECF6",
           "radialaxis": {
            "gridcolor": "white",
            "linecolor": "white",
            "ticks": ""
           }
          },
          "scene": {
           "xaxis": {
            "backgroundcolor": "#E5ECF6",
            "gridcolor": "white",
            "gridwidth": 2,
            "linecolor": "white",
            "showbackground": true,
            "ticks": "",
            "zerolinecolor": "white"
           },
           "yaxis": {
            "backgroundcolor": "#E5ECF6",
            "gridcolor": "white",
            "gridwidth": 2,
            "linecolor": "white",
            "showbackground": true,
            "ticks": "",
            "zerolinecolor": "white"
           },
           "zaxis": {
            "backgroundcolor": "#E5ECF6",
            "gridcolor": "white",
            "gridwidth": 2,
            "linecolor": "white",
            "showbackground": true,
            "ticks": "",
            "zerolinecolor": "white"
           }
          },
          "shapedefaults": {
           "line": {
            "color": "#2a3f5f"
           }
          },
          "ternary": {
           "aaxis": {
            "gridcolor": "white",
            "linecolor": "white",
            "ticks": ""
           },
           "baxis": {
            "gridcolor": "white",
            "linecolor": "white",
            "ticks": ""
           },
           "bgcolor": "#E5ECF6",
           "caxis": {
            "gridcolor": "white",
            "linecolor": "white",
            "ticks": ""
           }
          },
          "title": {
           "x": 0.05
          },
          "xaxis": {
           "automargin": true,
           "gridcolor": "white",
           "linecolor": "white",
           "ticks": "",
           "title": {
            "standoff": 15
           },
           "zerolinecolor": "white",
           "zerolinewidth": 2
          },
          "yaxis": {
           "automargin": true,
           "gridcolor": "white",
           "linecolor": "white",
           "ticks": "",
           "title": {
            "standoff": 15
           },
           "zerolinecolor": "white",
           "zerolinewidth": 2
          }
         }
        },
        "xaxis": {
         "anchor": "y",
         "autorange": true,
         "domain": [
          0,
          1
         ],
         "range": [
          25,
          875
         ],
         "title": {
          "text": "value"
         },
         "type": "linear"
        },
        "yaxis": {
         "anchor": "x",
         "autorange": true,
         "domain": [
          0,
          1
         ],
         "range": [
          0,
          41.05263157894737
         ],
         "title": {
          "text": "count"
         }
        }
       }
      },
      "image/png": "[encoded data removed]",
      "text/html": [
       "<div>                            <div id=\"eaae1a99-5dc6-4179-a578-b732bed8230b\" class=\"plotly-graph-div\" style=\"height:525px; width:100%;\"></div>            <script type=\"text/javascript\">                require([\"plotly\"], function(Plotly) {                    window.PLOTLYENV=window.PLOTLYENV || {};                                    if (document.getElementById(\"eaae1a99-5dc6-4179-a578-b732bed8230b\")) {                    Plotly.newPlot(                        \"eaae1a99-5dc6-4179-a578-b732bed8230b\",                        [{\"alignmentgroup\":\"True\",\"bingroup\":\"x\",\"hovertemplate\":\"variable=salary<br>value=%{x}<br>count=%{y}<extra></extra>\",\"legendgroup\":\"salary\",\"marker\":{\"color\":\"#636efa\",\"pattern\":{\"shape\":\"\"}},\"name\":\"salary\",\"nbinsx\":40,\"offsetgroup\":\"salary\",\"orientation\":\"v\",\"showlegend\":true,\"x\":[450.0,600.0,50.0,350.0,200.0,70.0,250.0,130.0,200.0,150.0,300.0,300.0,450.0,200.0,280.0,200.0,546.0,180.0,220.0,507.0,250.0,70.0,450.0,400.0,663.0,200.0,180.0,166.0,200.0,350.0,175.0,250.0,450.0,273.0,200.0,320.0,200.0,210.0,300.0,45.0,180.0,220.0,273.0,468.0,350.0,180.0,195.0,858.0,270.0,170.0,400.0,350.0,300.0,150.0,240.0,150.0,150.0,70.0,330.0,180.0,250.0,273.0,55.0,150.0,235.0,332.0,249.0,210.0,270.0,80.0,230.0,300.0,249.0,250.0,200.0,330.0,390.0,160.0,300.0,140.0,332.0,400.0,150.0,65.0,200.0,380.0,130.0,160.0,507.0,250.0,135.0,140.0,350.0,300.0,90.0,160.0,400.0,250.0,780.0,120.0,200.0,230.0,400.0,200.0,150.0,400.0,130.0,600.0,332.0,170.0,300.0,400.0,250.0,500.0,250.0,150.0,390.0,234.0,80.0,230.0,400.0,373.5,150.0,350.0,300.0,82.0,415.0,160.0,280.0,300.0,160.0,200.0,180.0,350.0,250.0,400.0,250.0,100.0,180.0,250.0,250.0,200.0,390.0,350.0,300.0,150.0,220.0,400.0,180.0,250.0,375.0,158.0,200.0,234.0,200.0,150.0,150.0,270.0,260.0,250.0,200.0,400.0,90.0,624.0,75.0,400.0,200.0,200.0,150.0,250.0,250.0,150.0,80.0,180.0,220.0,80.0,80.0,120.0,250.0,312.0,180.0,300.0,60.0,35.0,100.0,140.0,210.0,220.0],\"xaxis\":\"x\",\"yaxis\":\"y\",\"type\":\"histogram\"}],                        {\"template\":{\"data\":{\"histogram2dcontour\":[{\"type\":\"histogram2dcontour\",\"colorbar\":{\"outlinewidth\":0,\"ticks\":\"\"},\"colorscale\":[[0.0,\"#0d0887\"],[0.1111111111111111,\"#46039f\"],[0.2222222222222222,\"#7201a8\"],[0.3333333333333333,\"#9c179e\"],[0.4444444444444444,\"#bd3786\"],[0.5555555555555556,\"#d8576b\"],[0.6666666666666666,\"#ed7953\"],[0.7777777777777778,\"#fb9f3a\"],[0.8888888888888888,\"#fdca26\"],[1.0,\"#f0f921\"]]}],\"choropleth\":[{\"type\":\"choropleth\",\"colorbar\":{\"outlinewidth\":0,\"ticks\":\"\"}}],\"histogram2d\":[{\"type\":\"histogram2d\",\"colorbar\":{\"outlinewidth\":0,\"ticks\":\"\"},\"colorscale\":[[0.0,\"#0d0887\"],[0.1111111111111111,\"#46039f\"],[0.2222222222222222,\"#7201a8\"],[0.3333333333333333,\"#9c179e\"],[0.4444444444444444,\"#bd3786\"],[0.5555555555555556,\"#d8576b\"],[0.6666666666666666,\"#ed7953\"],[0.7777777777777778,\"#fb9f3a\"],[0.8888888888888888,\"#fdca26\"],[1.0,\"#f0f921\"]]}],\"heatmap\":[{\"type\":\"heatmap\",\"colorbar\":{\"outlinewidth\":0,\"ticks\":\"\"},\"colorscale\":[[0.0,\"#0d0887\"],[0.1111111111111111,\"#46039f\"],[0.2222222222222222,\"#7201a8\"],[0.3333333333333333,\"#9c179e\"],[0.4444444444444444,\"#bd3786\"],[0.5555555555555556,\"#d8576b\"],[0.6666666666666666,\"#ed7953\"],[0.7777777777777778,\"#fb9f3a\"],[0.8888888888888888,\"#fdca26\"],[1.0,\"#f0f921\"]]}],\"heatmapgl\":[{\"type\":\"heatmapgl\",\"colorbar\":{\"outlinewidth\":0,\"ticks\":\"\"},\"colorscale\":[[0.0,\"#0d0887\"],[0.1111111111111111,\"#46039f\"],[0.2222222222222222,\"#7201a8\"],[0.3333333333333333,\"#9c179e\"],[0.4444444444444444,\"#bd3786\"],[0.5555555555555556,\"#d8576b\"],[0.6666666666666666,\"#ed7953\"],[0.7777777777777778,\"#fb9f3a\"],[0.8888888888888888,\"#fdca26\"],[1.0,\"#f0f921\"]]}],\"contourcarpet\":[{\"type\":\"contourcarpet\",\"colorbar\":{\"outlinewidth\":0,\"ticks\":\"\"}}],\"contour\":[{\"type\":\"contour\",\"colorbar\":{\"outlinewidth\":0,\"ticks\":\"\"},\"colorscale\":[[0.0,\"#0d0887\"],[0.1111111111111111,\"#46039f\"],[0.2222222222222222,\"#7201a8\"],[0.3333333333333333,\"#9c179e\"],[0.4444444444444444,\"#bd3786\"],[0.5555555555555556,\"#d8576b\"],[0.6666666666666666,\"#ed7953\"],[0.7777777777777778,\"#fb9f3a\"],[0.8888888888888888,\"#fdca26\"],[1.0,\"#f0f921\"]]}],\"surface\":[{\"type\":\"surface\",\"colorbar\":{\"outlinewidth\":0,\"ticks\":\"\"},\"colorscale\":[[0.0,\"#0d0887\"],[0.1111111111111111,\"#46039f\"],[0.2222222222222222,\"#7201a8\"],[0.3333333333333333,\"#9c179e\"],[0.4444444444444444,\"#bd3786\"],[0.5555555555555556,\"#d8576b\"],[0.6666666666666666,\"#ed7953\"],[0.7777777777777778,\"#fb9f3a\"],[0.8888888888888888,\"#fdca26\"],[1.0,\"#f0f921\"]]}],\"mesh3d\":[{\"type\":\"mesh3d\",\"colorbar\":{\"outlinewidth\":0,\"ticks\":\"\"}}],\"scatter\":[{\"fillpattern\":{\"fillmode\":\"overlay\",\"size\":10,\"solidity\":0.2},\"type\":\"scatter\"}],\"parcoords\":[{\"type\":\"parcoords\",\"line\":{\"colorbar\":{\"outlinewidth\":0,\"ticks\":\"\"}}}],\"scatterpolargl\":[{\"type\":\"scatterpolargl\",\"marker\":{\"colorbar\":{\"outlinewidth\":0,\"ticks\":\"\"}}}],\"bar\":[{\"error_x\":{\"color\":\"#2a3f5f\"},\"error_y\":{\"color\":\"#2a3f5f\"},\"marker\":{\"line\":{\"color\":\"#E5ECF6\",\"width\":0.5},\"pattern\":{\"fillmode\":\"overlay\",\"size\":10,\"solidity\":0.2}},\"type\":\"bar\"}],\"scattergeo\":[{\"type\":\"scattergeo\",\"marker\":{\"colorbar\":{\"outlinewidth\":0,\"ticks\":\"\"}}}],\"scatterpolar\":[{\"type\":\"scatterpolar\",\"marker\":{\"colorbar\":{\"outlinewidth\":0,\"ticks\":\"\"}}}],\"histogram\":[{\"marker\":{\"pattern\":{\"fillmode\":\"overlay\",\"size\":10,\"solidity\":0.2}},\"type\":\"histogram\"}],\"scattergl\":[{\"type\":\"scattergl\",\"marker\":{\"colorbar\":{\"outlinewidth\":0,\"ticks\":\"\"}}}],\"scatter3d\":[{\"type\":\"scatter3d\",\"line\":{\"colorbar\":{\"outlinewidth\":0,\"ticks\":\"\"}},\"marker\":{\"colorbar\":{\"outlinewidth\":0,\"ticks\":\"\"}}}],\"scattermapbox\":[{\"type\":\"scattermapbox\",\"marker\":{\"colorbar\":{\"outlinewidth\":0,\"ticks\":\"\"}}}],\"scatterternary\":[{\"type\":\"scatterternary\",\"marker\":{\"colorbar\":{\"outlinewidth\":0,\"ticks\":\"\"}}}],\"scattercarpet\":[{\"type\":\"scattercarpet\",\"marker\":{\"colorbar\":{\"outlinewidth\":0,\"ticks\":\"\"}}}],\"carpet\":[{\"aaxis\":{\"endlinecolor\":\"#2a3f5f\",\"gridcolor\":\"white\",\"linecolor\":\"white\",\"minorgridcolor\":\"white\",\"startlinecolor\":\"#2a3f5f\"},\"baxis\":{\"endlinecolor\":\"#2a3f5f\",\"gridcolor\":\"white\",\"linecolor\":\"white\",\"minorgridcolor\":\"white\",\"startlinecolor\":\"#2a3f5f\"},\"type\":\"carpet\"}],\"table\":[{\"cells\":{\"fill\":{\"color\":\"#EBF0F8\"},\"line\":{\"color\":\"white\"}},\"header\":{\"fill\":{\"color\":\"#C8D4E3\"},\"line\":{\"color\":\"white\"}},\"type\":\"table\"}],\"barpolar\":[{\"marker\":{\"line\":{\"color\":\"#E5ECF6\",\"width\":0.5},\"pattern\":{\"fillmode\":\"overlay\",\"size\":10,\"solidity\":0.2}},\"type\":\"barpolar\"}],\"pie\":[{\"automargin\":true,\"type\":\"pie\"}]},\"layout\":{\"autotypenumbers\":\"strict\",\"colorway\":[\"#636efa\",\"#EF553B\",\"#00cc96\",\"#ab63fa\",\"#FFA15A\",\"#19d3f3\",\"#FF6692\",\"#B6E880\",\"#FF97FF\",\"#FECB52\"],\"font\":{\"color\":\"#2a3f5f\"},\"hovermode\":\"closest\",\"hoverlabel\":{\"align\":\"left\"},\"paper_bgcolor\":\"white\",\"plot_bgcolor\":\"#E5ECF6\",\"polar\":{\"bgcolor\":\"#E5ECF6\",\"angularaxis\":{\"gridcolor\":\"white\",\"linecolor\":\"white\",\"ticks\":\"\"},\"radialaxis\":{\"gridcolor\":\"white\",\"linecolor\":\"white\",\"ticks\":\"\"}},\"ternary\":{\"bgcolor\":\"#E5ECF6\",\"aaxis\":{\"gridcolor\":\"white\",\"linecolor\":\"white\",\"ticks\":\"\"},\"baxis\":{\"gridcolor\":\"white\",\"linecolor\":\"white\",\"ticks\":\"\"},\"caxis\":{\"gridcolor\":\"white\",\"linecolor\":\"white\",\"ticks\":\"\"}},\"coloraxis\":{\"colorbar\":{\"outlinewidth\":0,\"ticks\":\"\"}},\"colorscale\":{\"sequential\":[[0.0,\"#0d0887\"],[0.1111111111111111,\"#46039f\"],[0.2222222222222222,\"#7201a8\"],[0.3333333333333333,\"#9c179e\"],[0.4444444444444444,\"#bd3786\"],[0.5555555555555556,\"#d8576b\"],[0.6666666666666666,\"#ed7953\"],[0.7777777777777778,\"#fb9f3a\"],[0.8888888888888888,\"#fdca26\"],[1.0,\"#f0f921\"]],\"sequentialminus\":[[0.0,\"#0d0887\"],[0.1111111111111111,\"#46039f\"],[0.2222222222222222,\"#7201a8\"],[0.3333333333333333,\"#9c179e\"],[0.4444444444444444,\"#bd3786\"],[0.5555555555555556,\"#d8576b\"],[0.6666666666666666,\"#ed7953\"],[0.7777777777777778,\"#fb9f3a\"],[0.8888888888888888,\"#fdca26\"],[1.0,\"#f0f921\"]],\"diverging\":[[0,\"#8e0152\"],[0.1,\"#c51b7d\"],[0.2,\"#de77ae\"],[0.3,\"#f1b6da\"],[0.4,\"#fde0ef\"],[0.5,\"#f7f7f7\"],[0.6,\"#e6f5d0\"],[0.7,\"#b8e186\"],[0.8,\"#7fbc41\"],[0.9,\"#4d9221\"],[1,\"#276419\"]]},\"xaxis\":{\"gridcolor\":\"white\",\"linecolor\":\"white\",\"ticks\":\"\",\"title\":{\"standoff\":15},\"zerolinecolor\":\"white\",\"automargin\":true,\"zerolinewidth\":2},\"yaxis\":{\"gridcolor\":\"white\",\"linecolor\":\"white\",\"ticks\":\"\",\"title\":{\"standoff\":15},\"zerolinecolor\":\"white\",\"automargin\":true,\"zerolinewidth\":2},\"scene\":{\"xaxis\":{\"backgroundcolor\":\"#E5ECF6\",\"gridcolor\":\"white\",\"linecolor\":\"white\",\"showbackground\":true,\"ticks\":\"\",\"zerolinecolor\":\"white\",\"gridwidth\":2},\"yaxis\":{\"backgroundcolor\":\"#E5ECF6\",\"gridcolor\":\"white\",\"linecolor\":\"white\",\"showbackground\":true,\"ticks\":\"\",\"zerolinecolor\":\"white\",\"gridwidth\":2},\"zaxis\":{\"backgroundcolor\":\"#E5ECF6\",\"gridcolor\":\"white\",\"linecolor\":\"white\",\"showbackground\":true,\"ticks\":\"\",\"zerolinecolor\":\"white\",\"gridwidth\":2}},\"shapedefaults\":{\"line\":{\"color\":\"#2a3f5f\"}},\"annotationdefaults\":{\"arrowcolor\":\"#2a3f5f\",\"arrowhead\":0,\"arrowwidth\":1},\"geo\":{\"bgcolor\":\"white\",\"landcolor\":\"#E5ECF6\",\"subunitcolor\":\"white\",\"showland\":true,\"showlakes\":true,\"lakecolor\":\"white\"},\"title\":{\"x\":0.05},\"mapbox\":{\"style\":\"light\"}}},\"xaxis\":{\"anchor\":\"y\",\"domain\":[0.0,1.0],\"title\":{\"text\":\"value\"}},\"yaxis\":{\"anchor\":\"x\",\"domain\":[0.0,1.0],\"title\":{\"text\":\"count\"}},\"legend\":{\"title\":{\"text\":\"variable\"},\"tracegroupgap\":0},\"margin\":{\"t\":60},\"barmode\":\"relative\"},                        {\"responsive\": true}                    ).then(function(){\n",
       "                            \n",
       "var gd = document.getElementById('eaae1a99-5dc6-4179-a578-b732bed8230b');\n",
       "var x = new MutationObserver(function (mutations, observer) {{\n",
       "        var display = window.getComputedStyle(gd).display;\n",
       "        if (!display || display === 'none') {{\n",
       "            console.log([gd, 'removed!']);\n",
       "            Plotly.purge(gd);\n",
       "            observer.disconnect();\n",
       "        }}\n",
       "}});\n",
       "\n",
       "// Listen for the removal of the full notebook cells\n",
       "var notebookContainer = gd.closest('#notebook-container');\n",
       "if (notebookContainer) {{\n",
       "    x.observe(notebookContainer, {childList: true});\n",
       "}}\n",
       "\n",
       "// Listen for the clearing of the current output cell\n",
       "var outputEl = gd.closest('.output');\n",
       "if (outputEl) {{\n",
       "    x.observe(outputEl, {childList: true});\n",
       "}}\n",
       "\n",
       "                        })                };                });            </script>        </div>"
      ]
     },
     "metadata": {},
     "output_type": "display_data"
    }
   ],
   "source": [
    "px.histogram(df[\"salary\"],nbins=40)"
   ]
  },
  {
   "cell_type": "markdown",
   "id": "0081df07-400a-42f7-ac4f-9f35c987270b",
   "metadata": {},
   "source": [
    "Видно, что целевая переменная имеет тяжлый правый хвост и в основном ее значения сосредоточены от 100т. до 400т.\n"
   ]
  },
  {
   "cell_type": "markdown",
   "id": "fd761392-7f08-41c0-af76-f760fe770266",
   "metadata": {},
   "source": [
    "<h5>Основные используемые признаки</h5>"
   ]
  },
  {
   "cell_type": "code",
   "execution_count": 24,
   "id": "fd629ffc-2fd4-4fd8-9e5a-755c15d3108e",
   "metadata": {},
   "outputs": [
    {
     "data": {
      "text/html": [
       "<div>\n",
       "<style scoped>\n",
       "    .dataframe tbody tr th:only-of-type {\n",
       "        vertical-align: middle;\n",
       "    }\n",
       "\n",
       "    .dataframe tbody tr th {\n",
       "        vertical-align: top;\n",
       "    }\n",
       "\n",
       "    .dataframe thead th {\n",
       "        text-align: right;\n",
       "    }\n",
       "</style>\n",
       "<table border=\"1\" class=\"dataframe\">\n",
       "  <thead>\n",
       "    <tr style=\"text-align: right;\">\n",
       "      <th></th>\n",
       "      <th>vacancy</th>\n",
       "      <th>skills</th>\n",
       "      <th>description</th>\n",
       "      <th>schedule</th>\n",
       "      <th>employment</th>\n",
       "    </tr>\n",
       "  </thead>\n",
       "  <tbody>\n",
       "    <tr>\n",
       "      <th>0</th>\n",
       "      <td>Python разработчик</td>\n",
       "      <td>Python, aiohttp, asyncio, Django Framework, Flask</td>\n",
       "      <td>Ищем опытного питониста, который любит вызовы ...</td>\n",
       "      <td>Удаленная работа</td>\n",
       "      <td>Полная занятость</td>\n",
       "    </tr>\n",
       "    <tr>\n",
       "      <th>1</th>\n",
       "      <td>Разработчик Solidity/Разработчик Rust/Разработ...</td>\n",
       "      <td>Английский язык, Rust, Лидерство, golang, go</td>\n",
       "      <td>Что надо будет делать:  Проектировать, кодиров...</td>\n",
       "      <td>Гибкий график</td>\n",
       "      <td>Полная занятость</td>\n",
       "    </tr>\n",
       "    <tr>\n",
       "      <th>2</th>\n",
       "      <td>Стажер-разработчик Python</td>\n",
       "      <td>Python, PostgreSQL, MongoDB, REST, HTTP, Git, ...</td>\n",
       "      <td>Наша компания занимается разработкой решений в...</td>\n",
       "      <td>Полный день</td>\n",
       "      <td>Полная занятость</td>\n",
       "    </tr>\n",
       "    <tr>\n",
       "      <th>3</th>\n",
       "      <td>Python Developer</td>\n",
       "      <td></td>\n",
       "      <td>АСД Технолоджиз, разработчик платформы cloudik...</td>\n",
       "      <td>Полный день</td>\n",
       "      <td>Полная занятость</td>\n",
       "    </tr>\n",
       "    <tr>\n",
       "      <th>4</th>\n",
       "      <td>Разработчик Python</td>\n",
       "      <td>Python, HTTP, REST, Linux, Docker, Docker-comp...</td>\n",
       "      <td>Мы предлагаем:  Обучение построению и использо...</td>\n",
       "      <td>Полный день</td>\n",
       "      <td>Полная занятость</td>\n",
       "    </tr>\n",
       "    <tr>\n",
       "      <th>...</th>\n",
       "      <td>...</td>\n",
       "      <td>...</td>\n",
       "      <td>...</td>\n",
       "      <td>...</td>\n",
       "      <td>...</td>\n",
       "    </tr>\n",
       "    <tr>\n",
       "      <th>183</th>\n",
       "      <td>Веб-программист (Python), удалённо</td>\n",
       "      <td>API, Flask, Django, Git, Asana, amoCRM, Англий...</td>\n",
       "      <td>Здравствуйте! Мы ищем на постоянную удалённую ...</td>\n",
       "      <td>Удаленная работа</td>\n",
       "      <td>Полная занятость</td>\n",
       "    </tr>\n",
       "    <tr>\n",
       "      <th>184</th>\n",
       "      <td>Python разработчик (Junior)</td>\n",
       "      <td>Python, HTTP, Docker-compose, SQLAlchemy</td>\n",
       "      <td>Требования: * Знание Python 3 и базовых библио...</td>\n",
       "      <td>Удаленная работа</td>\n",
       "      <td>Полная занятость</td>\n",
       "    </tr>\n",
       "    <tr>\n",
       "      <th>185</th>\n",
       "      <td>Python бэкенд-разработчик</td>\n",
       "      <td>Python, Docker, Django Framework, Git, Linux, ...</td>\n",
       "      <td>Компания занимается разработкой мобильных прил...</td>\n",
       "      <td>Удаленная работа</td>\n",
       "      <td>Полная занятость</td>\n",
       "    </tr>\n",
       "    <tr>\n",
       "      <th>186</th>\n",
       "      <td>Начальник отдела разработки программного обесп...</td>\n",
       "      <td>Организация мероприятий, Разработка инструкций...</td>\n",
       "      <td>Обязанности: - Осуществляет разработку техниче...</td>\n",
       "      <td>Полный день</td>\n",
       "      <td>Полная занятость</td>\n",
       "    </tr>\n",
       "    <tr>\n",
       "      <th>187</th>\n",
       "      <td>Начальник службы поддержки и разработки информ...</td>\n",
       "      <td>Делопроизводство, Контроль исполнения решений,...</td>\n",
       "      <td>Обязанности:  Осуществляет руководство Службой...</td>\n",
       "      <td>Полный день</td>\n",
       "      <td>Полная занятость</td>\n",
       "    </tr>\n",
       "  </tbody>\n",
       "</table>\n",
       "<p>188 rows × 5 columns</p>\n",
       "</div>"
      ],
      "text/plain": [
       "                                               vacancy  \\\n",
       "0                                   Python разработчик   \n",
       "1    Разработчик Solidity/Разработчик Rust/Разработ...   \n",
       "2                            Стажер-разработчик Python   \n",
       "3                                     Python Developer   \n",
       "4                                   Разработчик Python   \n",
       "..                                                 ...   \n",
       "183                 Веб-программист (Python), удалённо   \n",
       "184                        Python разработчик (Junior)   \n",
       "185                          Python бэкенд-разработчик   \n",
       "186  Начальник отдела разработки программного обесп...   \n",
       "187  Начальник службы поддержки и разработки информ...   \n",
       "\n",
       "                                                skills  \\\n",
       "0    Python, aiohttp, asyncio, Django Framework, Flask   \n",
       "1         Английский язык, Rust, Лидерство, golang, go   \n",
       "2    Python, PostgreSQL, MongoDB, REST, HTTP, Git, ...   \n",
       "3                                                        \n",
       "4    Python, HTTP, REST, Linux, Docker, Docker-comp...   \n",
       "..                                                 ...   \n",
       "183  API, Flask, Django, Git, Asana, amoCRM, Англий...   \n",
       "184           Python, HTTP, Docker-compose, SQLAlchemy   \n",
       "185  Python, Docker, Django Framework, Git, Linux, ...   \n",
       "186  Организация мероприятий, Разработка инструкций...   \n",
       "187  Делопроизводство, Контроль исполнения решений,...   \n",
       "\n",
       "                                           description          schedule  \\\n",
       "0    Ищем опытного питониста, который любит вызовы ...  Удаленная работа   \n",
       "1    Что надо будет делать:  Проектировать, кодиров...     Гибкий график   \n",
       "2    Наша компания занимается разработкой решений в...       Полный день   \n",
       "3    АСД Технолоджиз, разработчик платформы cloudik...       Полный день   \n",
       "4    Мы предлагаем:  Обучение построению и использо...       Полный день   \n",
       "..                                                 ...               ...   \n",
       "183  Здравствуйте! Мы ищем на постоянную удалённую ...  Удаленная работа   \n",
       "184  Требования: * Знание Python 3 и базовых библио...  Удаленная работа   \n",
       "185  Компания занимается разработкой мобильных прил...  Удаленная работа   \n",
       "186  Обязанности: - Осуществляет разработку техниче...       Полный день   \n",
       "187  Обязанности:  Осуществляет руководство Службой...       Полный день   \n",
       "\n",
       "           employment  \n",
       "0    Полная занятость  \n",
       "1    Полная занятость  \n",
       "2    Полная занятость  \n",
       "3    Полная занятость  \n",
       "4    Полная занятость  \n",
       "..                ...  \n",
       "183  Полная занятость  \n",
       "184  Полная занятость  \n",
       "185  Полная занятость  \n",
       "186  Полная занятость  \n",
       "187  Полная занятость  \n",
       "\n",
       "[188 rows x 5 columns]"
      ]
     },
     "execution_count": 24,
     "metadata": {},
     "output_type": "execute_result"
    }
   ],
   "source": [
    "df[[\"vacancy\",\"skills\",\"description\",\"schedule\",\"employment\"]]"
   ]
  },
  {
   "cell_type": "markdown",
   "id": "75d9d517-d512-4e17-8084-4e368702222b",
   "metadata": {},
   "source": [
    "<h3>Преобразование данных</h3>"
   ]
  },
  {
   "cell_type": "markdown",
   "id": "2978a17f-ef82-40aa-97e1-c5f8797e7092",
   "metadata": {},
   "source": [
    "<h5>Навыки</h5>"
   ]
  },
  {
   "cell_type": "code",
   "execution_count": 29,
   "id": "146b7f04-327f-47ac-ad0b-3d8f1234edf2",
   "metadata": {},
   "outputs": [],
   "source": [
    "def get_counter(lst_skills: list) -> Counter:\n",
    "    \"\"\"Функция возвращает навыки и количество их встречаемости\"\"\"\n",
    "    set_skills = []\n",
    "    for skill in lst_skills:\n",
    "        set_skills = set_skills + skill.split(\", \")\n",
    "    return Counter(set_skills)"
   ]
  },
  {
   "cell_type": "code",
   "execution_count": 33,
   "id": "7b2133ce-3c73-4ce1-b4e4-616e4ac25725",
   "metadata": {},
   "outputs": [
    {
     "name": "stdout",
     "output_type": "stream",
     "text": [
      "238\n"
     ]
    },
    {
     "data": {
      "text/plain": [
       "{'python': 164,\n",
       " 'postgresql': 73,\n",
       " 'git': 67,\n",
       " 'django framework': 57,\n",
       " 'linux': 56,\n",
       " 'sql': 54,\n",
       " 'docker': 26,\n",
       " 'английский язык': 25,\n",
       " 'django': 23,\n",
       " 'flask': 20,\n",
       " 'redis': 19,\n",
       " 'ооп': 18,\n",
       " 'mysql': 17,\n",
       " 'mongodb': 12,\n",
       " 'rabbitmq': 12,\n",
       " 'css': 12,\n",
       " 'javascript': 12,\n",
       " 'api': 12,\n",
       " 'html': 11,\n",
       " 'rest': 10,\n",
       " 'aiohttp': 9,\n",
       " 'удаленная работа': 9,\n",
       " 'celery': 9,\n",
       " 'java': 8,\n",
       " 'nginx': 8,\n",
       " 'kubernetes': 7,\n",
       " 'asyncio': 6,\n",
       " 'golang': 6,\n",
       " 'go': 6,\n",
       " 'базы данных': 6,\n",
       " 'c++': 6,\n",
       " 'nlp': 6,\n",
       " 'django rest framework': 6,\n",
       " 'http': 5,\n",
       " 'docker-compose': 5,\n",
       " 'fastapi': 5,\n",
       " 'atlassian jira': 5,\n",
       " 'rest api': 5,\n",
       " 'big data': 5,\n",
       " 'ci/cd': 5,\n",
       " 'sqlalchemy': 4,\n",
       " 'bash': 4,\n",
       " 'react': 4,\n",
       " 'clickhouse': 4,\n",
       " 'c/c++': 4,\n",
       " 'machine learning': 4,\n",
       " 'backend': 4,\n",
       " 'работа с базами данных': 4,\n",
       " 'администрирование серверов linux': 4,\n",
       " 'алгоритмы': 3,\n",
       " 'php': 3,\n",
       " 'nosql': 3,\n",
       " 'drf': 3,\n",
       " 'kafka': 3,\n",
       " 'ms sql': 3,\n",
       " 'scrum': 3,\n",
       " 'gitlab': 3,\n",
       " 'tcp/ip': 3,\n",
       " 'soap': 3,\n",
       " 'паттерны проектирования': 2,\n",
       " 'анализ данных': 2,\n",
       " 'blockchain': 2,\n",
       " 'субд': 2,\n",
       " 'aws': 2,\n",
       " 'pandas': 2,\n",
       " 'музыка': 2,\n",
       " 'стриминг платформы': 2,\n",
       " 'ml': 2,\n",
       " 'databases': 2,\n",
       " 'data science': 2,\n",
       " 'etl': 2,\n",
       " 'agile project management': 2,\n",
       " 'алгоритмы и структуры данных': 2,\n",
       " 'orm': 2,\n",
       " 'github': 2,\n",
       " 'data engineering': 2,\n",
       " 'работа в команде': 2,\n",
       " 'agile': 2,\n",
       " 'selenium ide': 2,\n",
       " 'ansible': 2,\n",
       " 'devops': 2,\n",
       " 'grafana': 2,\n",
       " 'kotlin': 2,\n",
       " 'pytorch': 2,\n",
       " 'numpy': 2,\n",
       " 'networking': 2,\n",
       " 'аналитическое мышление': 2,\n",
       " 'apache kafka': 2,\n",
       " 'управление персоналом': 2,\n",
       " 'vue.js': 2,\n",
       " 'xml': 2,\n",
       " 'teamleading': 2,\n",
       " 'pytest': 2,\n",
       " 'работа в условиях многозадачности': 2,\n",
       " 'информационные технологии': 2,\n",
       " 'контроль исполнения решений': 2,\n",
       " 'rust': 1,\n",
       " 'лидерство': 1,\n",
       " 'c#': 1,\n",
       " 'fast api': 1,\n",
       " 'solidity': 1,\n",
       " 'smart contract': 1,\n",
       " 'symfony': 1,\n",
       " '#crypto': 1,\n",
       " '#solidity': 1,\n",
       " 'google cloud': 1,\n",
       " 'квантовые технологии': 1,\n",
       " 'software development': 1,\n",
       " 'openstack': 1,\n",
       " 'pentaho': 1,\n",
       " 'администрирование сайтов': 1,\n",
       " 'хорошая обучаемость': 1,\n",
       " 'back-end': 1,\n",
       " 'html5': 1,\n",
       " 'умение принимать решения': 1,\n",
       " 'руководство командой разработчиков': 1,\n",
       " 'многозадачность': 1,\n",
       " 'dash': 1,\n",
       " 'plotly': 1,\n",
       " 'sdet': 1,\n",
       " 'python 3': 1,\n",
       " 'знания протокола rest': 1,\n",
       " 'знания протокола grpc': 1,\n",
       " 'знания протокола graphql': 1,\n",
       " 'опыт работы с контейнерами': 1,\n",
       " 'cmmi': 1,\n",
       " 'парсинг': 1,\n",
       " 'заинтересованность': 1,\n",
       " 'automation testing': 1,\n",
       " 'manual testing': 1,\n",
       " 'microservices': 1,\n",
       " 'gitlab ci': 1,\n",
       " 'teamcity': 1,\n",
       " 'нагрузочное тестирование': 1,\n",
       " 'регресcионное тестирование': 1,\n",
       " 'автотестирование': 1,\n",
       " 'yandex.tank': 1,\n",
       " 'jmeter': 1,\n",
       " 'kibana': 1,\n",
       " 'prometheus': 1,\n",
       " 'allure test report': 1,\n",
       " 'mariadb': 1,\n",
       " 'atlassian confluence': 1,\n",
       " 'testcomplete': 1,\n",
       " 'автоматизированное тестирование': 1,\n",
       " 'cucumber': 1,\n",
       " 'ruby': 1,\n",
       " 'tensorflow': 1,\n",
       " 'jenkins': 1,\n",
       " 'python3': 1,\n",
       " 'telegram': 1,\n",
       " 'с': 1,\n",
       " 'функциональное тестирование': 1,\n",
       " 'qa': 1,\n",
       " 'грамотность': 1,\n",
       " 'ориентация на результат': 1,\n",
       " 'web': 1,\n",
       " 'visual studio code': 1,\n",
       " 'unit testing': 1,\n",
       " 'управление проектами': 1,\n",
       " 'jquery': 1,\n",
       " 'mvc': 1,\n",
       " 'mssql': 1,\n",
       " 'react.js': 1,\n",
       " 'ведение переговоров': 1,\n",
       " 'обучение персонала': 1,\n",
       " 'гарант': 1,\n",
       " '1с программирование': 1,\n",
       " '1с: предприятие 8': 1,\n",
       " 'креативность': 1,\n",
       " 'multithreading': 1,\n",
       " 'multiprocessing': 1,\n",
       " 'тестирование': 1,\n",
       " 'elasticsearch': 1,\n",
       " 'творческое мышление': 1,\n",
       " 'restful': 1,\n",
       " 'udp': 1,\n",
       " 'английский — b2 — средне-продвинутый': 1,\n",
       " 'аналитика': 1,\n",
       " 'elk': 1,\n",
       " 'continuous integration / continious delivery': 1,\n",
       " 'асинхронное программирование': 1,\n",
       " 'быстрое обучение': 1,\n",
       " 'lead': 1,\n",
       " 'architect': 1,\n",
       " 'cassandra': 1,\n",
       " 'руководство коллективом': 1,\n",
       " 'phyton': 1,\n",
       " 'angularjs': 1,\n",
       " 'angular12': 1,\n",
       " 'киберспорт': 1,\n",
       " 'игры': 1,\n",
       " 'геймдев': 1,\n",
       " 'nft': 1,\n",
       " 'криптосистемы': 1,\n",
       " 'смартпроекты': 1,\n",
       " 'smart контракты': 1,\n",
       " 'spark': 1,\n",
       " 'unix': 1,\n",
       " 'qt': 1,\n",
       " 'cmake': 1,\n",
       " 'vue': 1,\n",
       " 'aggregate': 1,\n",
       " 'bert': 1,\n",
       " 'vba': 1,\n",
       " 'математическая статистика': 1,\n",
       " 'портфельные риски': 1,\n",
       " 'теория вероятностей': 1,\n",
       " 'solid': 1,\n",
       " 'apache ignite': 1,\n",
       " 'фильтр частиц': 1,\n",
       " 'радиосигналы': 1,\n",
       " 'django orm': 1,\n",
       " 'sdk': 1,\n",
       " 'computer science': 1,\n",
       " 'highload': 1,\n",
       " 'frontend': 1,\n",
       " 'разработка нового продукта': 1,\n",
       " 'oracle': 1,\n",
       " 'json api': 1,\n",
       " 'обучение': 1,\n",
       " 'мотивация': 1,\n",
       " 'преподаватель': 1,\n",
       " 'gdal': 1,\n",
       " 'умение быстро усваивать новую информацию': 1,\n",
       " 'asana': 1,\n",
       " 'amocrm': 1,\n",
       " 'firebase': 1,\n",
       " 'оптимизация кода': 1,\n",
       " 'коммуникабельность': 1,\n",
       " 'ответственность': 1,\n",
       " 'ответственность и пунктуальность': 1,\n",
       " 'умение работать в условиях многозадачности': 1,\n",
       " 'организация мероприятий': 1,\n",
       " 'разработка инструкций': 1,\n",
       " 'техническая документация': 1,\n",
       " 'делопроизводство': 1,\n",
       " 'должностные инструкции': 1}"
      ]
     },
     "execution_count": 33,
     "metadata": {},
     "output_type": "execute_result"
    }
   ],
   "source": [
    "# Посмотрим на навыки по числу встречаемости\n",
    "df_skills = df[\"skills\"].copy()\n",
    "df_name = df[\"vacancy\"].copy()\n",
    "list_skills = []\n",
    "for str_skills in df_skills.values:\n",
    "    list_skills = list_skills + str_skills.lower().split(\", \")\n",
    "set_skills = sorted(get_counter(list_skills).items(), key=lambda x: x[1], reverse=True)\n",
    "set_skills = dict(set_skills)\n",
    "set_skills = {key: value for key, value in set_skills.items() if key != \"\"}\n",
    "print(len(set_skills))\n",
    "set_skills"
   ]
  },
  {
   "cell_type": "markdown",
   "id": "937abc2b-ae30-408a-be41-fd600096bb45",
   "metadata": {},
   "source": [
    "В итоге получается 238 признаков при 188 сэмплов. По этому я отбразил имеющиеся навыки на выделенные мной навыки.\n",
    "Эти навыки хранятся в переменной lst_main_skills. Отображение реализуетс через словарь dct_skills"
   ]
  },
  {
   "cell_type": "code",
   "execution_count": 35,
   "id": "ea83487c-ae56-4dbf-a6b6-5274e1af23bf",
   "metadata": {},
   "outputs": [],
   "source": [
    "lst_main_skill = [\n",
    "    \"junior_skills\",\n",
    "    \"middle_skills\",\n",
    "    \"senior_skills\",\n",
    "    \"lead_skills\",\n",
    "    \"soft_skills\",\n",
    "    \"quality_skills\",\n",
    "]"
   ]
  },
  {
   "cell_type": "code",
   "execution_count": 36,
   "id": "5c13544b-c988-45ea-adaa-90fabe68b1e2",
   "metadata": {},
   "outputs": [],
   "source": [
    "dct_skills = {\n",
    "    \"python\": \"junior_skills\",\n",
    "    \"postgresql\": \"middle_skills\",\n",
    "    \"git\": \"middle_skills\",\n",
    "    \"django framework\": \"middle_skills\",\n",
    "    \"linux\": \"junior_skills\",\n",
    "    \"sql\": \"junior_skills\",\n",
    "    \"docker\": \"senior_skills\",\n",
    "    \"английский язык\": \"soft_skills\",\n",
    "    \"flask\": \"junior_skills\",\n",
    "    \"django\": \"junior_skills\",\n",
    "    \"ооп\": \"middle_skills\",\n",
    "    \"redis\": \"senior_skills\",\n",
    "    \"mysql\": \"junior_skills\",\n",
    "    \"css\": \"junior_skills\",\n",
    "    \"javascript\": \"middle_skills\",\n",
    "    \"rabbitmq\": \"middle_skills\",\n",
    "    \"html\": \"junior_skills\",\n",
    "    \"api\": \"middle_skills\",\n",
    "    \"mongodb\": \"middle_skills\",\n",
    "    \"rest\": \"senior_skills\",\n",
    "    \"удаленная работа\": \"quality_skills\",\n",
    "    \"celery\": \"middle_skills\",\n",
    "    \"kubernetes\": \"senior_skills\",\n",
    "    \"aiohttp\": \"senior_skills\",\n",
    "    \"asyncio\": \"senior_skills\",\n",
    "    \"java\": \"senior_skills\",\n",
    "    \"nginx\": \"middle_skills\",\n",
    "    \"go\": \"middle_skills\",\n",
    "    \"fastapi\": \"middle_skills\",\n",
    "    \"базы данных\": \"junior_skills\",\n",
    "    \"bash\": \"middle_skills\",\n",
    "    \"nlp\": \"senior_skills\",\n",
    "    \"ci/cd\": \"senior_skills\",\n",
    "    \"golang\": \"middle_skills\",\n",
    "    \"http\": \"junior_skills\",\n",
    "    \"atlassian jira\": \"middle_skills\",\n",
    "    \"docker-compose\": \"middle_skills\",\n",
    "    \"machine learning\": \"middle_skills\",\n",
    "    \"big data\": \"middle_skills\",\n",
    "    \"rest api\": \"middle_skills\",\n",
    "    \"backend\": \"middle_skills\",\n",
    "    \"django rest framework\": \"middle_skills\",\n",
    "    \"c++\": \"middle_skills\",\n",
    "    \"ms sql\": \"junior_skills\",\n",
    "    \"c/c++\": \"middle_skills\",\n",
    "    \"nosql\": \"middle_skills\",\n",
    "    \"sqlalchemy\": \"middle_skills\",\n",
    "    \"clickhouse\": \"middle_skills\",\n",
    "    \"работа с базами данных\": \"junior_skills\",\n",
    "    \"soap\": \"middle_skills\",\n",
    "    \"администрирование серверов linux\": \"middle_skills\",\n",
    "    \"алгоритмы\": \"junior_skills\",\n",
    "    \"aws\": \"middle_skills\",\n",
    "    \"react\": \"junior_skills\",\n",
    "    \"pytorch\": \"senior_skills\",\n",
    "    \"orm\": \"middle_skills\",\n",
    "    \"работа в команде\": \"soft_skills\",\n",
    "    \"gitlab\": \"junior_skills\",\n",
    "    \"drf\": \"middle_skills\",\n",
    "    \"scrum\": \"senior_skills\",\n",
    "    \"xml\": \"junior_skills\",\n",
    "    \"vue.js\": \"middle_skills\",\n",
    "    \"tcp/ip\": \"junior_skills\",\n",
    "    \"agile\": \"middle_skills\",\n",
    "    \"субд\": \"junior_skills\",\n",
    "    \"алгоритмы и структуры данных\": \"middle_skills\",\n",
    "    \"паттерны проектирования\": \"middle_skills\",\n",
    "    \"анализ данных\": \"junior_skills\",\n",
    "    \"pandas\": \"junior_skills\",\n",
    "    \"ml\": \"middle_skills\",\n",
    "    \"databases\": \"junior_skills\",\n",
    "    \"data science\": \"middle_skills\",\n",
    "    \"музыка\": \"soft_skills\",\n",
    "    \"стриминг платформы\": \"senior_skills\",\n",
    "    \"etl\": \"middle_skills\",\n",
    "    \"оптимизация кода\": \"middle_skills\",\n",
    "    \"асинхронное программирование\": \"senior_skills\",\n",
    "    \"selenium ide\": \"middle_skills\",\n",
    "    \"numpy\": \"junior_skills\",\n",
    "    \"kafka\": \"middle_skills\",\n",
    "    \"ansible\": \"middle_skills\",\n",
    "    \"grafana\": \"middle_skills\",\n",
    "    \"data engineering\": \"middle_skills\",\n",
    "    \"грамотность\": \"quality_skills\",\n",
    "    \"аналитическое мышление\": \"quality_skills\",\n",
    "    \"kotlin\": \"middle_skills\",\n",
    "    \"ruby\": \"middle_skills\",\n",
    "    \"web\": \"junior_skills\",\n",
    "    \"apache kafka\": \"middle_skills\",\n",
    "    \"php\": \"middle_skills\",\n",
    "    \"qt\": \"middle_skills\",\n",
    "    \"функциональное тестирование\": \"middle_skills\",\n",
    "    \"тестирование\": \"junior_skills\",\n",
    "    \"управление персоналом\": \"lead_skills\",\n",
    "    \"networking\": \"middle_skills\",\n",
    "    \"devops\": \"middle_skills\",\n",
    "    \"teamleading\": \"lead_skills\",\n",
    "    \"pytest\": \"middle_skills\",\n",
    "    \"обучение\": \"quality_skills\",\n",
    "    \"информационные технологии\": \"junior_skills\",\n",
    "    \"преподаватель\": \"soft_skills\",\n",
    "    \"unix\": \"middle_skills\",\n",
    "    \"gitlab ci\": \"middle_skills\",\n",
    "    \"prometheus\": \"senior_skills\",\n",
    "    \"vba\": \"junior_skills\",\n",
    "    \"oracle\": \"junior_skills\",\n",
    "    \"грамотная речь\": \"quality_skills\",\n",
    "    \"контроль исполнения решений\": \"lead_skills\",\n",
    "    \"rust\": \"senior_skills\",\n",
    "    \"лидерство\": \"lead_skills\",\n",
    "    \"администрирование сайтов\": \"junior_skills\",\n",
    "    \"fast api\": \"middle_skills\",\n",
    "    \"c#\": \"middle_skills\",\n",
    "    \"google cloud\": \"senior_skills\",\n",
    "    \"квантовые технологии\": \"soft_skills\",\n",
    "    \"openstack\": \"middle_skills\",\n",
    "    \"software development\": \"middle_skills\",\n",
    "    \"vkontakte api\": \"middle_skills\",\n",
    "    \"парсинг\": \"middle_skills\",\n",
    "    \"agile project management\": \"senior_skills\",\n",
    "    \"tensorflow\": \"senior_skills\",\n",
    "    \"jenkins\": \"middle_skills\",\n",
    "    \"sdet\": \"senior_skills\",\n",
    "    \"dash\": \"senior_skills\",\n",
    "    \"plotly\": \"middle_skills\",\n",
    "    \"html5\": \"middle_skills\",\n",
    "    \"хорошая обучаемость\": \"quality_skills\",\n",
    "    \"руководство командой разработчиков\": \"lead_skills\",\n",
    "    \"заинтересованность\": \"quality_skills\",\n",
    "    \"back-end\": \"middle_skills\",\n",
    "    \"python3\": \"junior_skills\",\n",
    "    \"mariadb\": \"middle_skills\",\n",
    "    \"telegram\": \"junior_skills\",\n",
    "    \"ориентация на результат\": \"quality_skills\",\n",
    "    \"atlassian confluence\": \"middle_skills\",\n",
    "    \"testcomplete\": \"middle_skills\",\n",
    "    \"автоматизированное тестирование\": \"middle_skills\",\n",
    "    \"cucumber\": \"middle_skills\",\n",
    "    \"английский — b2 — средне-продвинутый\": \"soft_skills\",\n",
    "    \"visual studio code\": \"middle_skills\",\n",
    "    \"unit testing\": \"middle_skills\",\n",
    "    \"github\": \"middle_skills\",\n",
    "    \"continuous integration / continious delivery\": \"senior_skills\",\n",
    "    \"управление проектами\": \"junior_skills\",\n",
    "    \"jquery\": \"junior_skills\",\n",
    "    \"mvc\": \"middle_skills\",\n",
    "    \"mssql\": \"junior_skills\",\n",
    "    \"react.js\": \"junior_skills\",\n",
    "    \"гарант\": \"junior_skills\",\n",
    "    \"cmake\": \"middle_skills\",\n",
    "    \"selenium\": \"middle_skills\",\n",
    "    \"appium\": \"middle_skills\",\n",
    "    \"ведение переговоров\": \"lead_skills\",\n",
    "    \"обучение персонала\": \"lead_skills\",\n",
    "    \"с\": \"middle_skills\",\n",
    "    \"qa\": \"senior_skills\",\n",
    "    \"restful\": \"middle_skills\",\n",
    "    \"vue js\": \"middle_skills\",\n",
    "    \"1с программирование\": \"junior_skills\",\n",
    "    \"1с: предприятие 8\": \"junior_skills\",\n",
    "    \"multithreading\": \"senior_skills\",\n",
    "    \"multiprocessing\": \"senior_skills\",\n",
    "    \"python 3\": \"junior_skills\",\n",
    "    \"знания протокола rest\": \"middle_skills\",\n",
    "    \"знания протокола grpc\": \"senior_skills\",\n",
    "    \"знания протокола graphql\": \"senior_skills\",\n",
    "    \"опыт работы с контейнерами\": \"middle_skills\",\n",
    "    \"cmmi\": \"senior_skills\",\n",
    "    \"креативность\": \"quality_skills\",\n",
    "    \"творческое мышление\": \"quality_skills\",\n",
    "    \"аналитика\": \"soft_skills\",\n",
    "    \"elk\": \"middle_skills\",\n",
    "    \"aggregate\": \"lead_skills\",\n",
    "    \"udp\": \"middle_skills\",\n",
    "    \"elasticsearch\": \"middle_skills\",\n",
    "    \"быстрое обучение\": \"quality_skills\",\n",
    "    \"cassandra\": \"senior_skills\",\n",
    "    \"руководство коллективом\": \"lead_skills\",\n",
    "    \"phyton\": \"middle_skills\",\n",
    "    \"angularjs\": \"senior_skills\",\n",
    "    \"angular12\": \"senior_skills\",\n",
    "    \"многозадачность\": \"quality_skills\",\n",
    "    \"киберспорт\": \"junior_skills\",\n",
    "    \"игры\": \"junior_skills\",\n",
    "    \"геймдев\": \"middle_skills\",\n",
    "    \"lead\": \"lead_skills\",\n",
    "    \"architect\": \"junior_skills\",\n",
    "    \"мотивация\": \"quality_skills\",\n",
    "    \"nft\": \"middle_skills\",\n",
    "    \"криптосистемы\": \"middle_skills\",\n",
    "    \"смартпроекты\": \"middle_skills\",\n",
    "    \"blockchain\": \"senior_skills\",\n",
    "    \"smart контракты\": \"senior_skills\",\n",
    "    \"spark\": \"senior_skills\",\n",
    "    \"фильтр частиц\": \"junior_skills\",\n",
    "    \"радиосигналы\": \"middle_skills\",\n",
    "    \"automation testing\": \"senior_skills\",\n",
    "    \"manual testing\": \"senior_skills\",\n",
    "    \"microservices\": \"senior_skills\",\n",
    "    \"teamcity\": \"senior_skills\",\n",
    "    \"нагрузочное тестирование\": \"middle_skills\",\n",
    "    \"регресcионное тестирование\": \"middle_skills\",\n",
    "    \"автотестирование\": \"middle_skills\",\n",
    "    \"yandex.tank\": \"senior_skills\",\n",
    "    \"jmeter\": \"middle_skills\",\n",
    "    \"kibana\": \"senior_skills\",\n",
    "    \"allure test report\": \"middle_skills\",\n",
    "    \"математическая статистика\": \"middle_skills\",\n",
    "    \"портфельные риски\": \"middle_skills\",\n",
    "    \"теория вероятностей\": \"middle_skills\",\n",
    "    \"vue\": \"middle_skills\",\n",
    "    \"bert\": \"lead_skills\",\n",
    "    \"apache ignite\": \"senior_skills\",\n",
    "    \"django orm\": \"senior_skills\",\n",
    "    \"sdk\": \"senior_skills\",\n",
    "    \"computer science\": \"middle_skills\",\n",
    "    \"highload\": \"senior_skills\",\n",
    "    \"frontend\": \"junior_skills\",\n",
    "    \"mercurial\": \"middle_skills\",\n",
    "    \"microsoft access\": \"junior_skills\",\n",
    "    \"разработка нового продукта\": \"middle_skills\",\n",
    "    \"autodesk maya\": \"junior_skills\",\n",
    "    \"autodesk shotgrid\": \"junior_skills\",\n",
    "    \"желание учиться и развиваться\": \"quality_skills\",\n",
    "    \"ruby on rails\": \"middle_skills\",\n",
    "    \"добросовестность\": \"quality_skills\",\n",
    "    \"исполнительность\": \"quality_skills\",\n",
    "    \"инициативность\": \"quality_skills\",\n",
    "    \"swagger\": \"senior_skills\",\n",
    "    \"postgres\": \"middle_skills\",\n",
    "    \"websockets\": \"senior_skills\",\n",
    "    \"sentry\": \"senior_skills\",\n",
    "    \"k8s\": \"senior_skills\",\n",
    "    \"grafana efk\": \"senior_skills\",\n",
    "    \"telegram bots\": \"senior_skills\",\n",
    "    \"threading / multiprocessing в python\": \"senior_skills\",\n",
    "    \"english b1-c2\": \"soft_skills\",\n",
    "    \"r\": \"junior_skills\",\n",
    "    \"web application development\": \"senior_skills\",\n",
    "    \"falcon\": \"middle_skills\",\n",
    "    \"gdal\": \"middle_skills\",\n",
    "    \"pycharm\": \"junior_skills\",\n",
    "    \"json api\": \"middle_skills\",\n",
    "    \"asana\": \"junior_skills\",\n",
    "    \"amocrm\": \"junior_skills\",\n",
    "    \"умение быстро усваивать новую информацию\": \"quality_skills\",\n",
    "    \"firebase\": \"senior_skills\",\n",
    "    \"коммуникабельность\": \"quality_skills\",\n",
    "    \"ответственность\": \"quality_skills\",\n",
    "    \"ответственность и пунктуальность\": \"quality_skills\",\n",
    "    \"умение работать в условиях многозадачности\": \"quality_skills\",\n",
    "    \"работа в условиях многозадачности\": \"quality_skills\",\n",
    "    \"организация мероприятий\": \"lead_skills\",\n",
    "    \"разработка инструкций\": \"soft_skills\",\n",
    "    \"техническая документация\": \"soft_skills\",\n",
    "    \"делопроизводство\": \"soft_skills\",\n",
    "    \"должностные инструкции\": \"lead_skills\",\n",
    "    \"групповое обучение\": \"quality_skills\",\n",
    "    \"обучение и развитие\": \"quality_skills\",\n",
    "    \"организаторские навыки\": \"quality_skills\",\n",
    "    \"#crypto\": \"senior_skills\",\n",
    "    \"#solidity\": \"senior_skills\",\n",
    "    \"pentaho\": \"senior_skills\",\n",
    "    \"smart contract\": \"senior_skills\",\n",
    "    \"solid\": \"senior_skills\",\n",
    "    \"solidity\": \"senior_skills\",\n",
    "    \"symfony\": \"senior_skills\",\n",
    "    \"умение принимать решения\": \"quality_skills\",\n",
    "    \n",
    "    \"k3s\": \"senior_skills\",\n",
    "    \"rke\": \"senior_skills\",\n",
    "    \n",
    "    'android': \"junior_skills\",\n",
    "    'angular': \"senior_skills\",\n",
    "    'bi': \"middle_skills\",\n",
    "    'development': \"middle_skills\",\n",
    "    'e-commerce': \"middle_skills\",\n",
    "    'flex': \"middle_skills\",\n",
    "    'flux': \"senior_skills\",\n",
    "    'html/css': \"middle_skills\",\n",
    "    'ico': \"junior_skills\",\n",
    "    'ios': \"junior_skills\",\n",
    "    'jira': \"junior_skills\",\n",
    "    'js': \"middle_skills\",\n",
    "    'json': \"middle_skills\",\n",
    "    'kanban': \"middle_skills\",\n",
    "    'less': \"middle_skills\",\n",
    "    'openapi': \"senior_skills\",\n",
    "    'redmine': \"middle_skills\",\n",
    "    'ui': \"junior_skills\",\n",
    "    'ux': \"middle_skills\",\n",
    "    'автоматизация процессов': \"soft_skills\",\n",
    "    'администрирование': \"junior_skills\",\n",
    "    'бюджетирование': \"soft_skills\",\n",
    "    'высшее образование': \"soft_skills\",\n",
    "    'гибкость': \"quality_skills\",\n",
    "    'графика': \"soft_skills\",\n",
    "    'дизайн': \"soft_skills\",\n",
    "    'знание английского': \"soft_skills\",\n",
    "    'мобильное приложение': \"soft_skills\",\n",
    "    'планирование': \"quality_skills\",\n",
    "    'продажи': \"junior_skills\",\n",
    "    'скорость': \"quality_skills\",\n",
    "    'создание': \"soft_skills\",\n",
    "    'техническое задание': \"soft_skills\",\n",
    "    'умение работать в режиме многозадачности': \"quality_skills\",\n",
    "    'управление командой': \"lead_skills\",\n",
    "    'художник': \"soft_skills\",\n",
    "    'чат-бот': \"soft_skills\",\n",
    "    \n",
    "    'amazon': \"senior_skills\",\n",
    "    'automation': \"senior_skills\",\n",
    "    'chef': \"middle_skills\",\n",
    "    'ci': \"senior_skills\",\n",
    "    'circleci': \"senior_skills\",\n",
    "    'design patterns': \"senior_skills\",\n",
    "    'ds': \"junior_skills\",\n",
    "    'erp': \"middle_skills\",\n",
    "    'helm': \"senior_skills\",\n",
    "    'hive': \"middle_skills\",\n",
    "    'information security': \"middle_skills\",\n",
    "    'keras': \"senior_skills\",\n",
    "    'management': \"lead_skills\",\n",
    "    'marketing': \"middle_skills\",\n",
    "    'office': \"soft_skills\",\n",
    "    'openshift': \"senior_skills\",\n",
    "    'powershell': \"middle_skills\",\n",
    "    'recruitment': \"junior_skills\",\n",
    "    'restful api': \"middle_skills\",\n",
    "    'scala': \"senior_skills\",\n",
    "    'sklearn': \"senior_skills\",\n",
    "    'scikit-learn': \"senior_skills\",\n",
    "    'ssh': \"middle_skills\",\n",
    "    'ssis': \"senior_skills\",\n",
    "    'terraform': \"senior_skills\",\n",
    "    'vmware': \"soft_skills\",\n",
    "    'vpn': \"soft_skills\",\n",
    "    'windows': \"soft_skills\",\n",
    "    'yandex.cloud': \"senior_skills\",\n",
    "    'автоматизация': \"soft_skills\",\n",
    "    'выполнение поставленных задач': \"quality_skills\",\n",
    "    'машинное обучение': \"middle_skills\",\n",
    "    'мониторинг': \"soft_skills\",\n",
    "    'оптимизация запросов': \"soft_skills\",\n",
    "    'с++': \"middle_skills\",\n",
    "    'микросервис': 'senior_skills',\n",
    "}"
   ]
  },
  {
   "cell_type": "markdown",
   "id": "3a27656c-8a38-46c1-9cbc-95fba05b9e84",
   "metadata": {},
   "source": [
    "<h5>График и режим работы</h5>"
   ]
  },
  {
   "cell_type": "code",
   "execution_count": 39,
   "id": "690f6007-bb08-48dd-b8ee-5be6a6f0ba06",
   "metadata": {},
   "outputs": [
    {
     "data": {
      "text/html": [
       "<div>\n",
       "<style scoped>\n",
       "    .dataframe tbody tr th:only-of-type {\n",
       "        vertical-align: middle;\n",
       "    }\n",
       "\n",
       "    .dataframe tbody tr th {\n",
       "        vertical-align: top;\n",
       "    }\n",
       "\n",
       "    .dataframe thead th {\n",
       "        text-align: right;\n",
       "    }\n",
       "</style>\n",
       "<table border=\"1\" class=\"dataframe\">\n",
       "  <thead>\n",
       "    <tr style=\"text-align: right;\">\n",
       "      <th></th>\n",
       "      <th>schedule</th>\n",
       "      <th>employment</th>\n",
       "    </tr>\n",
       "  </thead>\n",
       "  <tbody>\n",
       "    <tr>\n",
       "      <th>0</th>\n",
       "      <td>Удаленная работа</td>\n",
       "      <td>Полная занятость</td>\n",
       "    </tr>\n",
       "    <tr>\n",
       "      <th>1</th>\n",
       "      <td>Гибкий график</td>\n",
       "      <td>Полная занятость</td>\n",
       "    </tr>\n",
       "    <tr>\n",
       "      <th>2</th>\n",
       "      <td>Полный день</td>\n",
       "      <td>Полная занятость</td>\n",
       "    </tr>\n",
       "    <tr>\n",
       "      <th>3</th>\n",
       "      <td>Полный день</td>\n",
       "      <td>Полная занятость</td>\n",
       "    </tr>\n",
       "    <tr>\n",
       "      <th>4</th>\n",
       "      <td>Полный день</td>\n",
       "      <td>Полная занятость</td>\n",
       "    </tr>\n",
       "  </tbody>\n",
       "</table>\n",
       "</div>"
      ],
      "text/plain": [
       "           schedule        employment\n",
       "0  Удаленная работа  Полная занятость\n",
       "1     Гибкий график  Полная занятость\n",
       "2       Полный день  Полная занятость\n",
       "3       Полный день  Полная занятость\n",
       "4       Полный день  Полная занятость"
      ]
     },
     "execution_count": 39,
     "metadata": {},
     "output_type": "execute_result"
    }
   ],
   "source": [
    "df[[\"schedule\",\"employment\"]].head()"
   ]
  },
  {
   "cell_type": "markdown",
   "id": "87e1bbc2-b36d-4631-af6e-a46fde300fe1",
   "metadata": {},
   "source": [
    "Как видно данные признаки категоаьные, по этому их преобразуем к виду one hot"
   ]
  },
  {
   "cell_type": "markdown",
   "id": "c3e62911-f0b8-4af2-b491-1b32e38421da",
   "metadata": {},
   "source": [
    "<h5>Название</h5>"
   ]
  },
  {
   "cell_type": "code",
   "execution_count": 41,
   "id": "0fb5c163-99e6-448d-9e39-c6c7365e6b80",
   "metadata": {},
   "outputs": [
    {
     "data": {
      "text/html": [
       "<div>\n",
       "<style scoped>\n",
       "    .dataframe tbody tr th:only-of-type {\n",
       "        vertical-align: middle;\n",
       "    }\n",
       "\n",
       "    .dataframe tbody tr th {\n",
       "        vertical-align: top;\n",
       "    }\n",
       "\n",
       "    .dataframe thead th {\n",
       "        text-align: right;\n",
       "    }\n",
       "</style>\n",
       "<table border=\"1\" class=\"dataframe\">\n",
       "  <thead>\n",
       "    <tr style=\"text-align: right;\">\n",
       "      <th></th>\n",
       "      <th>vacancy</th>\n",
       "    </tr>\n",
       "  </thead>\n",
       "  <tbody>\n",
       "    <tr>\n",
       "      <th>0</th>\n",
       "      <td>Python разработчик</td>\n",
       "    </tr>\n",
       "    <tr>\n",
       "      <th>1</th>\n",
       "      <td>Разработчик Solidity/Разработчик Rust/Разработ...</td>\n",
       "    </tr>\n",
       "    <tr>\n",
       "      <th>2</th>\n",
       "      <td>Стажер-разработчик Python</td>\n",
       "    </tr>\n",
       "    <tr>\n",
       "      <th>3</th>\n",
       "      <td>Python Developer</td>\n",
       "    </tr>\n",
       "    <tr>\n",
       "      <th>4</th>\n",
       "      <td>Разработчик Python</td>\n",
       "    </tr>\n",
       "  </tbody>\n",
       "</table>\n",
       "</div>"
      ],
      "text/plain": [
       "                                             vacancy\n",
       "0                                 Python разработчик\n",
       "1  Разработчик Solidity/Разработчик Rust/Разработ...\n",
       "2                          Стажер-разработчик Python\n",
       "3                                   Python Developer\n",
       "4                                 Разработчик Python"
      ]
     },
     "execution_count": 41,
     "metadata": {},
     "output_type": "execute_result"
    }
   ],
   "source": [
    "df[[\"vacancy\"]].head()"
   ]
  },
  {
   "cell_type": "markdown",
   "id": "7579830c-1c2e-4406-b929-8111c2fa4554",
   "metadata": {},
   "source": [
    "Из названий вакансий можно извлечь уровень разработчика которого ищет работодатель. Список уровней представлен в переменной lst_levels"
   ]
  },
  {
   "cell_type": "code",
   "execution_count": 42,
   "id": "02dbc449-91ce-4ee2-bb07-46f120840a14",
   "metadata": {},
   "outputs": [],
   "source": [
    "lst_levels = [\n",
    "    \"начальник\", \n",
    "    \"lead\",  \n",
    "    \"техлид\", \n",
    "    \"senior\", \n",
    "    \"ведущий\", \n",
    "    \"middle\", \n",
    "    \"старший\", \n",
    "    \"стажер\", \n",
    "]"
   ]
  },
  {
   "cell_type": "markdown",
   "id": "62b3a3af-c813-436d-89a1-9c7850aae714",
   "metadata": {},
   "source": [
    "<h4>Преобразуем указанные выше признаки</h4>"
   ]
  },
  {
   "cell_type": "code",
   "execution_count": 44,
   "id": "54e0ff6d-70b4-411c-8604-fcfa251c1699",
   "metadata": {},
   "outputs": [],
   "source": [
    "def get_count_skills(str_skills: str, dict_skills: dict, main_skill: str) ->int:\n",
    "    \"\"\"Возвращает число ключевого нывака main_skill среди всех навыков вакансии\"\"\"\n",
    "    str_skills = str_skills.lower().split(\", \")\n",
    "    count = 0\n",
    "    for skill in str_skills:\n",
    "        if skill and dict_skills.get(skill,0):\n",
    "            if main_skill == dict_skills[skill]:\n",
    "                count += 1\n",
    "    return count"
   ]
  },
  {
   "cell_type": "code",
   "execution_count": 47,
   "id": "b48430c2-c9a1-4df2-ab9f-3f1b37cafb79",
   "metadata": {},
   "outputs": [],
   "source": [
    "def get_count_skills_in_description(str_skills: str, dict_skills: dict, main_skill: str) ->int:\n",
    "    \"\"\"Возвращает число ключевого нывака main_skill из описания вакансии\"\"\"\n",
    "    punct = re.compile(\"[,.()/]\")\n",
    "    str_skills = re.sub(punct, \" \", str_skills)\n",
    "    str_skills = str_skills.lower().split(\" \")\n",
    "    count = 0\n",
    "    for skill in str_skills:\n",
    "        if skill and dict_skills.get(skill,0):\n",
    "            if main_skill == dict_skills[skill]:\n",
    "                count += 1\n",
    "    return count"
   ]
  },
  {
   "cell_type": "code",
   "execution_count": 49,
   "id": "299b193f-921d-4802-8808-ce74b7cb17cd",
   "metadata": {},
   "outputs": [],
   "source": [
    "def get_level(str_vacancy:str, lst_level: list) -> str:\n",
    "    \"\"\"Возвращает уровень разработчика указанный в названии вакансии, если не указан вернет 'other'\"\"\"\n",
    "    for level in lst_level:\n",
    "        if level in str_vacancy.lower():\n",
    "            return level\n",
    "    else:\n",
    "        return \"other\""
   ]
  },
  {
   "cell_type": "code",
   "execution_count": 54,
   "id": "24fc56cb-10f1-4632-b7d0-061e4f9ba9b6",
   "metadata": {},
   "outputs": [
    {
     "data": {
      "text/plain": [
       "['Гибкий график',\n",
       " 'Полный день',\n",
       " 'Сменный график',\n",
       " 'Удаленная работа',\n",
       " 'Полная занятость',\n",
       " 'Проектная работа',\n",
       " 'Стажировка',\n",
       " 'Частичная занятость',\n",
       " 'lead',\n",
       " 'middle',\n",
       " 'other',\n",
       " 'senior',\n",
       " 'ведущий',\n",
       " 'начальник',\n",
       " 'стажер',\n",
       " 'старший',\n",
       " 'техлид']"
      ]
     },
     "execution_count": 54,
     "metadata": {},
     "output_type": "execute_result"
    }
   ],
   "source": [
    "df = df[df[\"skills\"] != \"\"] # Убираем те вакансии для которых не указаны навыки\n",
    "\n",
    "df_skills = df[[\"skills\",\"description\",\"vacancy\"]].copy()\n",
    "df_train = pd.DataFrame(df_skills)\n",
    "df_train[\"salary\"] = df[\"salary\"]\n",
    "# df_train.loc[df_train[\"salary\"]<50, \"salary\"] = 50\n",
    "# df_train.loc[df_train[\"salary\"]>=500, \"salary\"] = 500\n",
    "for main_skill in lst_main_skill:\n",
    "    df_train[main_skill] = df_train[\"skills\"].apply(\n",
    "        lambda x: get_count_skills(x, dct_skills, main_skill)\n",
    "    ) + df_train[\"description\"].apply(\n",
    "        lambda x: get_count_skills_in_description(x, dct_skills, main_skill)\n",
    "    )\n",
    "    \n",
    "lst_col = []\n",
    "code_oh = OneHotEncoder()\n",
    "schedule_cat = code_oh.fit_transform(df.schedule.values.reshape(-1, 1))\n",
    "schedule_cat.todense()\n",
    "df_train[code_oh.categories_[0]] = schedule_cat.todense()\n",
    "lst_col = lst_col + list(code_oh.categories_[0])\n",
    "# code_oh = OneHotEncoder()\n",
    "employment_cat = code_oh.fit_transform(df.employment.values.reshape(-1, 1))\n",
    "df_train[code_oh.categories_[0]] = employment_cat.todense()\n",
    "lst_col = lst_col + list(code_oh.categories_[0])\n",
    "df_train[\"level\"] = df_train.vacancy.apply(lambda x: get_level(x,lst_levels))\n",
    "df_train[\"level1\"] = df_train.description.apply(lambda x: get_level(x,lst_levels))\n",
    "df_train.loc[(df_train[\"level\"]==\"other\")&(df_train[\"level1\"]==\"junior\"),\"level\"]=\"junior\"\n",
    "df_train.loc[(df_train[\"level\"]==\"other\")&(df_train[\"level1\"]==\"middle\"),\"level\"]=\"middle\"\n",
    "df_train.loc[(df_train[\"level\"]==\"other\")&(df_train[\"level1\"]==\"senior\"),\"level\"]=\"senior\"\n",
    "df_train.loc[(df_train[\"level\"]==\"other\")&(df_train[\"level1\"]==\"lead\"),\"level\"]=\"lead\"\n",
    "# code_oh = OneHotEncoder()\n",
    "level_cat = code_oh.fit_transform(df_train.level.values.reshape(-1, 1))\n",
    "level_cat.todense()\n",
    "df_train[code_oh.categories_[0]] = level_cat.todense()\n",
    "lst_col = lst_col + list(code_oh.categories_[0])\n",
    "lst_col #Список новых признаков"
   ]
  },
  {
   "cell_type": "markdown",
   "id": "2224ba0b-8459-4138-8a09-27257c803c20",
   "metadata": {},
   "source": [
    "<h5>Полученый датафрейм</h5>"
   ]
  },
  {
   "cell_type": "code",
   "execution_count": 55,
   "id": "903d97fd-c4de-46da-b190-6eb793a3597c",
   "metadata": {},
   "outputs": [
    {
     "data": {
      "text/html": [
       "<div>\n",
       "<style scoped>\n",
       "    .dataframe tbody tr th:only-of-type {\n",
       "        vertical-align: middle;\n",
       "    }\n",
       "\n",
       "    .dataframe tbody tr th {\n",
       "        vertical-align: top;\n",
       "    }\n",
       "\n",
       "    .dataframe thead th {\n",
       "        text-align: right;\n",
       "    }\n",
       "</style>\n",
       "<table border=\"1\" class=\"dataframe\">\n",
       "  <thead>\n",
       "    <tr style=\"text-align: right;\">\n",
       "      <th></th>\n",
       "      <th>skills</th>\n",
       "      <th>description</th>\n",
       "      <th>vacancy</th>\n",
       "      <th>salary</th>\n",
       "      <th>junior_skills</th>\n",
       "      <th>middle_skills</th>\n",
       "      <th>senior_skills</th>\n",
       "      <th>lead_skills</th>\n",
       "      <th>soft_skills</th>\n",
       "      <th>quality_skills</th>\n",
       "      <th>...</th>\n",
       "      <th>level1</th>\n",
       "      <th>lead</th>\n",
       "      <th>middle</th>\n",
       "      <th>other</th>\n",
       "      <th>senior</th>\n",
       "      <th>ведущий</th>\n",
       "      <th>начальник</th>\n",
       "      <th>стажер</th>\n",
       "      <th>старший</th>\n",
       "      <th>техлид</th>\n",
       "    </tr>\n",
       "  </thead>\n",
       "  <tbody>\n",
       "    <tr>\n",
       "      <th>0</th>\n",
       "      <td>Python, aiohttp, asyncio, Django Framework, Flask</td>\n",
       "      <td>Ищем опытного питониста, который любит вызовы ...</td>\n",
       "      <td>Python разработчик</td>\n",
       "      <td>450.0</td>\n",
       "      <td>11</td>\n",
       "      <td>20</td>\n",
       "      <td>8</td>\n",
       "      <td>0</td>\n",
       "      <td>1</td>\n",
       "      <td>0</td>\n",
       "      <td>...</td>\n",
       "      <td>начальник</td>\n",
       "      <td>0.0</td>\n",
       "      <td>0.0</td>\n",
       "      <td>1.0</td>\n",
       "      <td>0.0</td>\n",
       "      <td>0.0</td>\n",
       "      <td>0.0</td>\n",
       "      <td>0.0</td>\n",
       "      <td>0.0</td>\n",
       "      <td>0.0</td>\n",
       "    </tr>\n",
       "    <tr>\n",
       "      <th>1</th>\n",
       "      <td>Английский язык, Rust, Лидерство, golang, go</td>\n",
       "      <td>Что надо будет делать:  Проектировать, кодиров...</td>\n",
       "      <td>Разработчик Solidity/Разработчик Rust/Разработ...</td>\n",
       "      <td>600.0</td>\n",
       "      <td>1</td>\n",
       "      <td>8</td>\n",
       "      <td>4</td>\n",
       "      <td>1</td>\n",
       "      <td>1</td>\n",
       "      <td>0</td>\n",
       "      <td>...</td>\n",
       "      <td>other</td>\n",
       "      <td>0.0</td>\n",
       "      <td>0.0</td>\n",
       "      <td>1.0</td>\n",
       "      <td>0.0</td>\n",
       "      <td>0.0</td>\n",
       "      <td>0.0</td>\n",
       "      <td>0.0</td>\n",
       "      <td>0.0</td>\n",
       "      <td>0.0</td>\n",
       "    </tr>\n",
       "    <tr>\n",
       "      <th>2</th>\n",
       "      <td>Python, PostgreSQL, MongoDB, REST, HTTP, Git, ...</td>\n",
       "      <td>Наша компания занимается разработкой решений в...</td>\n",
       "      <td>Стажер-разработчик Python</td>\n",
       "      <td>50.0</td>\n",
       "      <td>10</td>\n",
       "      <td>14</td>\n",
       "      <td>7</td>\n",
       "      <td>0</td>\n",
       "      <td>1</td>\n",
       "      <td>1</td>\n",
       "      <td>...</td>\n",
       "      <td>other</td>\n",
       "      <td>0.0</td>\n",
       "      <td>0.0</td>\n",
       "      <td>0.0</td>\n",
       "      <td>0.0</td>\n",
       "      <td>0.0</td>\n",
       "      <td>0.0</td>\n",
       "      <td>1.0</td>\n",
       "      <td>0.0</td>\n",
       "      <td>0.0</td>\n",
       "    </tr>\n",
       "    <tr>\n",
       "      <th>4</th>\n",
       "      <td>Python, HTTP, REST, Linux, Docker, Docker-comp...</td>\n",
       "      <td>Мы предлагаем:  Обучение построению и использо...</td>\n",
       "      <td>Разработчик Python</td>\n",
       "      <td>200.0</td>\n",
       "      <td>7</td>\n",
       "      <td>14</td>\n",
       "      <td>8</td>\n",
       "      <td>0</td>\n",
       "      <td>0</td>\n",
       "      <td>1</td>\n",
       "      <td>...</td>\n",
       "      <td>other</td>\n",
       "      <td>0.0</td>\n",
       "      <td>0.0</td>\n",
       "      <td>1.0</td>\n",
       "      <td>0.0</td>\n",
       "      <td>0.0</td>\n",
       "      <td>0.0</td>\n",
       "      <td>0.0</td>\n",
       "      <td>0.0</td>\n",
       "      <td>0.0</td>\n",
       "    </tr>\n",
       "    <tr>\n",
       "      <th>5</th>\n",
       "      <td>Python, Английский язык, SQLAlchemy, MongoDB, ...</td>\n",
       "      <td>Ищем людей для разработки технологических пр...</td>\n",
       "      <td>Разработчик бэкэнд (Python)</td>\n",
       "      <td>70.0</td>\n",
       "      <td>6</td>\n",
       "      <td>14</td>\n",
       "      <td>1</td>\n",
       "      <td>0</td>\n",
       "      <td>1</td>\n",
       "      <td>1</td>\n",
       "      <td>...</td>\n",
       "      <td>other</td>\n",
       "      <td>0.0</td>\n",
       "      <td>0.0</td>\n",
       "      <td>1.0</td>\n",
       "      <td>0.0</td>\n",
       "      <td>0.0</td>\n",
       "      <td>0.0</td>\n",
       "      <td>0.0</td>\n",
       "      <td>0.0</td>\n",
       "      <td>0.0</td>\n",
       "    </tr>\n",
       "  </tbody>\n",
       "</table>\n",
       "<p>5 rows × 29 columns</p>\n",
       "</div>"
      ],
      "text/plain": [
       "                                              skills  \\\n",
       "0  Python, aiohttp, asyncio, Django Framework, Flask   \n",
       "1       Английский язык, Rust, Лидерство, golang, go   \n",
       "2  Python, PostgreSQL, MongoDB, REST, HTTP, Git, ...   \n",
       "4  Python, HTTP, REST, Linux, Docker, Docker-comp...   \n",
       "5  Python, Английский язык, SQLAlchemy, MongoDB, ...   \n",
       "\n",
       "                                         description  \\\n",
       "0  Ищем опытного питониста, который любит вызовы ...   \n",
       "1  Что надо будет делать:  Проектировать, кодиров...   \n",
       "2  Наша компания занимается разработкой решений в...   \n",
       "4  Мы предлагаем:  Обучение построению и использо...   \n",
       "5    Ищем людей для разработки технологических пр...   \n",
       "\n",
       "                                             vacancy  salary  junior_skills  \\\n",
       "0                                 Python разработчик   450.0             11   \n",
       "1  Разработчик Solidity/Разработчик Rust/Разработ...   600.0              1   \n",
       "2                          Стажер-разработчик Python    50.0             10   \n",
       "4                                 Разработчик Python   200.0              7   \n",
       "5                        Разработчик бэкэнд (Python)    70.0              6   \n",
       "\n",
       "   middle_skills  senior_skills  lead_skills  soft_skills  quality_skills  \\\n",
       "0             20              8            0            1               0   \n",
       "1              8              4            1            1               0   \n",
       "2             14              7            0            1               1   \n",
       "4             14              8            0            0               1   \n",
       "5             14              1            0            1               1   \n",
       "\n",
       "   ...     level1  lead  middle  other  senior  ведущий  начальник  стажер  \\\n",
       "0  ...  начальник   0.0     0.0    1.0     0.0      0.0        0.0     0.0   \n",
       "1  ...      other   0.0     0.0    1.0     0.0      0.0        0.0     0.0   \n",
       "2  ...      other   0.0     0.0    0.0     0.0      0.0        0.0     1.0   \n",
       "4  ...      other   0.0     0.0    1.0     0.0      0.0        0.0     0.0   \n",
       "5  ...      other   0.0     0.0    1.0     0.0      0.0        0.0     0.0   \n",
       "\n",
       "  старший техлид  \n",
       "0     0.0    0.0  \n",
       "1     0.0    0.0  \n",
       "2     0.0    0.0  \n",
       "4     0.0    0.0  \n",
       "5     0.0    0.0  \n",
       "\n",
       "[5 rows x 29 columns]"
      ]
     },
     "execution_count": 55,
     "metadata": {},
     "output_type": "execute_result"
    }
   ],
   "source": [
    "df_train.head()"
   ]
  },
  {
   "cell_type": "markdown",
   "id": "d6c13e08-1e36-41ef-b91d-b10c02773dd8",
   "metadata": {},
   "source": [
    "<h3>Обучение</h3>"
   ]
  },
  {
   "cell_type": "markdown",
   "id": "7c1cfe4a-f0d2-436e-9d33-c4242c89197a",
   "metadata": {},
   "source": [
    "Так как число сэмплов дастаточно не велико, для улучшения качесва модели лучше избавится от шумовых данных ЗП.\n",
    "\n",
    "Для оценки используется средняя абсолютная ошибка для удобства восприятия."
   ]
  },
  {
   "cell_type": "code",
   "execution_count": 57,
   "id": "d913ba87-aa60-4435-8b8e-894a94676d37",
   "metadata": {},
   "outputs": [],
   "source": [
    "# Получение новых признаков для обучения\n",
    "X = df_train[(df_train[\"salary\"] < 400)&(df_train[\"salary\"] >=80)][lst_col+lst_main_skill]\n",
    "y = df_train[(df_train[\"salary\"] < 400)&(df_train[\"salary\"] >=80)][\"salary\"]\n",
    "\n",
    "# Разделение выборки на обучающую и тесстовую\n",
    "X_train, X_test, y_train, y_test = train_test_split(\n",
    "    X, y, test_size=0.2\n",
    ")"
   ]
  },
  {
   "cell_type": "markdown",
   "id": "6fe2cc6c-9f78-41ec-a494-2f00a2d2a238",
   "metadata": {},
   "source": [
    "<h5>К-ближайших соседей</h5>"
   ]
  },
  {
   "cell_type": "code",
   "execution_count": 59,
   "id": "5a0eaea3-70b3-4b82-85d7-ec93b599edbc",
   "metadata": {},
   "outputs": [
    {
     "data": {
      "text/plain": [
       "58.590116340627915"
      ]
     },
     "execution_count": 59,
     "metadata": {},
     "output_type": "execute_result"
    }
   ],
   "source": [
    "# Создание модели\n",
    "knn = KNeighborsRegressor(n_neighbors=11, weights=\"distance\", p=2)\n",
    "# Перекресная проверка\n",
    "(-1)*cross_val_score(knn, X, y, cv=10, scoring=\"neg_mean_absolute_error\").mean()"
   ]
  },
  {
   "cell_type": "code",
   "execution_count": 72,
   "id": "8b430dd6-4a4e-41e9-b6a5-1b64cd901ddf",
   "metadata": {},
   "outputs": [
    {
     "name": "stdout",
     "output_type": "stream",
     "text": [
      "62.57998871473781\n",
      "5551.079930147359\n"
     ]
    },
    {
     "data": {
      "text/html": [
       "<div>\n",
       "<style scoped>\n",
       "    .dataframe tbody tr th:only-of-type {\n",
       "        vertical-align: middle;\n",
       "    }\n",
       "\n",
       "    .dataframe tbody tr th {\n",
       "        vertical-align: top;\n",
       "    }\n",
       "\n",
       "    .dataframe thead th {\n",
       "        text-align: right;\n",
       "    }\n",
       "</style>\n",
       "<table border=\"1\" class=\"dataframe\">\n",
       "  <thead>\n",
       "    <tr style=\"text-align: right;\">\n",
       "      <th></th>\n",
       "      <th>y_true</th>\n",
       "      <th>y_pred</th>\n",
       "      <th>differ</th>\n",
       "    </tr>\n",
       "  </thead>\n",
       "  <tbody>\n",
       "    <tr>\n",
       "      <th>93</th>\n",
       "      <td>300.0</td>\n",
       "      <td>213.642941</td>\n",
       "      <td>86.357059</td>\n",
       "    </tr>\n",
       "    <tr>\n",
       "      <th>134</th>\n",
       "      <td>250.0</td>\n",
       "      <td>195.315443</td>\n",
       "      <td>54.684557</td>\n",
       "    </tr>\n",
       "    <tr>\n",
       "      <th>18</th>\n",
       "      <td>220.0</td>\n",
       "      <td>197.205624</td>\n",
       "      <td>22.794376</td>\n",
       "    </tr>\n",
       "    <tr>\n",
       "      <th>45</th>\n",
       "      <td>180.0</td>\n",
       "      <td>229.944356</td>\n",
       "      <td>-49.944356</td>\n",
       "    </tr>\n",
       "    <tr>\n",
       "      <th>174</th>\n",
       "      <td>220.0</td>\n",
       "      <td>262.222390</td>\n",
       "      <td>-42.222390</td>\n",
       "    </tr>\n",
       "    <tr>\n",
       "      <th>68</th>\n",
       "      <td>270.0</td>\n",
       "      <td>235.844911</td>\n",
       "      <td>34.155089</td>\n",
       "    </tr>\n",
       "    <tr>\n",
       "      <th>129</th>\n",
       "      <td>300.0</td>\n",
       "      <td>218.517017</td>\n",
       "      <td>81.482983</td>\n",
       "    </tr>\n",
       "    <tr>\n",
       "      <th>158</th>\n",
       "      <td>260.0</td>\n",
       "      <td>243.411311</td>\n",
       "      <td>16.588689</td>\n",
       "    </tr>\n",
       "    <tr>\n",
       "      <th>140</th>\n",
       "      <td>250.0</td>\n",
       "      <td>217.288614</td>\n",
       "      <td>32.711386</td>\n",
       "    </tr>\n",
       "    <tr>\n",
       "      <th>75</th>\n",
       "      <td>330.0</td>\n",
       "      <td>256.788237</td>\n",
       "      <td>73.211763</td>\n",
       "    </tr>\n",
       "  </tbody>\n",
       "</table>\n",
       "</div>"
      ],
      "text/plain": [
       "     y_true      y_pred     differ\n",
       "93    300.0  213.642941  86.357059\n",
       "134   250.0  195.315443  54.684557\n",
       "18    220.0  197.205624  22.794376\n",
       "45    180.0  229.944356 -49.944356\n",
       "174   220.0  262.222390 -42.222390\n",
       "68    270.0  235.844911  34.155089\n",
       "129   300.0  218.517017  81.482983\n",
       "158   260.0  243.411311  16.588689\n",
       "140   250.0  217.288614  32.711386\n",
       "75    330.0  256.788237  73.211763"
      ]
     },
     "execution_count": 72,
     "metadata": {},
     "output_type": "execute_result"
    }
   ],
   "source": [
    "knn.fit(X_train,y_train)\n",
    "y_pred = knn.predict(X_test)\n",
    "dfp = pd.DataFrame()\n",
    "dfp[\"y_true\"] = y_test\n",
    "dfp[\"y_pred\"] = y_pred\n",
    "dfp[\"differ\"] = y_test - y_pred\n",
    "print(mean_absolute_error(y_test,y_pred))\n",
    "print(mean_squared_error(y_test,y_pred))\n",
    "dfp.head(10)"
   ]
  },
  {
   "cell_type": "markdown",
   "id": "13c460d5-44dc-4d0d-bbaa-32654b891e83",
   "metadata": {},
   "source": [
    "В среднем данная модель занижает ЗП."
   ]
  },
  {
   "cell_type": "markdown",
   "id": "92cfb2c7-bb69-4542-8f06-60a534800b7c",
   "metadata": {},
   "source": [
    "<h5>Случайный лес</h5>"
   ]
  },
  {
   "cell_type": "code",
   "execution_count": 74,
   "id": "f626b8af-ef9d-4889-8beb-24616ddc4590",
   "metadata": {},
   "outputs": [
    {
     "data": {
      "text/plain": [
       "52.97232386794902"
      ]
     },
     "execution_count": 74,
     "metadata": {},
     "output_type": "execute_result"
    }
   ],
   "source": [
    "rf = RandomForestRegressor(\n",
    "    n_estimators=400,\n",
    "    max_features=\"log2\",\n",
    "    min_samples_leaf=5,\n",
    ")\n",
    "(-1)*cross_val_score(rf, X, y, cv=10, scoring=\"neg_mean_absolute_error\").mean()"
   ]
  },
  {
   "cell_type": "code",
   "execution_count": 77,
   "id": "19f729c9-3541-4a33-8f0b-0c7579dd1767",
   "metadata": {},
   "outputs": [
    {
     "name": "stdout",
     "output_type": "stream",
     "text": [
      "54.004314068626954\n",
      "5546.093922230976\n"
     ]
    },
    {
     "data": {
      "text/html": [
       "<div>\n",
       "<style scoped>\n",
       "    .dataframe tbody tr th:only-of-type {\n",
       "        vertical-align: middle;\n",
       "    }\n",
       "\n",
       "    .dataframe tbody tr th {\n",
       "        vertical-align: top;\n",
       "    }\n",
       "\n",
       "    .dataframe thead th {\n",
       "        text-align: right;\n",
       "    }\n",
       "</style>\n",
       "<table border=\"1\" class=\"dataframe\">\n",
       "  <thead>\n",
       "    <tr style=\"text-align: right;\">\n",
       "      <th></th>\n",
       "      <th>y_true</th>\n",
       "      <th>y_pred</th>\n",
       "      <th>differ</th>\n",
       "    </tr>\n",
       "  </thead>\n",
       "  <tbody>\n",
       "    <tr>\n",
       "      <th>93</th>\n",
       "      <td>300.0</td>\n",
       "      <td>220.483742</td>\n",
       "      <td>79.516258</td>\n",
       "    </tr>\n",
       "    <tr>\n",
       "      <th>134</th>\n",
       "      <td>250.0</td>\n",
       "      <td>217.320326</td>\n",
       "      <td>32.679674</td>\n",
       "    </tr>\n",
       "    <tr>\n",
       "      <th>18</th>\n",
       "      <td>220.0</td>\n",
       "      <td>214.117035</td>\n",
       "      <td>5.882965</td>\n",
       "    </tr>\n",
       "    <tr>\n",
       "      <th>45</th>\n",
       "      <td>180.0</td>\n",
       "      <td>182.960630</td>\n",
       "      <td>-2.960630</td>\n",
       "    </tr>\n",
       "    <tr>\n",
       "      <th>174</th>\n",
       "      <td>220.0</td>\n",
       "      <td>230.676628</td>\n",
       "      <td>-10.676628</td>\n",
       "    </tr>\n",
       "  </tbody>\n",
       "</table>\n",
       "</div>"
      ],
      "text/plain": [
       "     y_true      y_pred     differ\n",
       "93    300.0  220.483742  79.516258\n",
       "134   250.0  217.320326  32.679674\n",
       "18    220.0  214.117035   5.882965\n",
       "45    180.0  182.960630  -2.960630\n",
       "174   220.0  230.676628 -10.676628"
      ]
     },
     "execution_count": 77,
     "metadata": {},
     "output_type": "execute_result"
    }
   ],
   "source": [
    "rf.fit(X_train,y_train)\n",
    "y_pred = rf.predict(X_test)\n",
    "dfp = pd.DataFrame()\n",
    "dfp[\"y_true\"] = y_test\n",
    "dfp[\"y_pred\"] = y_pred\n",
    "dfp[\"differ\"] = y_test - y_pred\n",
    "print(mean_absolute_error(y_test,y_pred))\n",
    "print(mean_squared_error(y_test,y_pred))\n",
    "dfp.head()"
   ]
  },
  {
   "cell_type": "markdown",
   "id": "d92fc22f-4d89-47f2-8e84-4bb586c30641",
   "metadata": {},
   "source": [
    "Данная можель в среднем предсказывает ЗП лучше, при этом ей хорошо даютс предикты в промежутке 180-25"
   ]
  },
  {
   "cell_type": "markdown",
   "id": "9cda021c-6ac2-4825-9a9c-e9013730aff2",
   "metadata": {},
   "source": [
    "<h5>Градиентный бустинг</h5>"
   ]
  },
  {
   "cell_type": "code",
   "execution_count": 79,
   "id": "d5eae6bd-4c47-4e2f-a5c5-ef059a7d7179",
   "metadata": {},
   "outputs": [
    {
     "data": {
      "text/plain": [
       "49.07761757400009"
      ]
     },
     "execution_count": 79,
     "metadata": {},
     "output_type": "execute_result"
    }
   ],
   "source": [
    "xgb = xgboost.XGBRegressor(\n",
    "    n_estimators=500,\n",
    "    max_depth=3,\n",
    "    colsample_bytree=0.2,\n",
    "    learning_rate=0.01,\n",
    ")\n",
    "(-1)*cross_val_score(xgb, X, y, cv=10, scoring=\"neg_mean_absolute_error\").mean()"
   ]
  },
  {
   "cell_type": "code",
   "execution_count": 82,
   "id": "4957fa41-fe54-40d1-91d9-0fc140a7325d",
   "metadata": {},
   "outputs": [
    {
     "name": "stdout",
     "output_type": "stream",
     "text": [
      "52.13441521780832\n",
      "4938.173906965972\n"
     ]
    },
    {
     "data": {
      "text/html": [
       "<div>\n",
       "<style scoped>\n",
       "    .dataframe tbody tr th:only-of-type {\n",
       "        vertical-align: middle;\n",
       "    }\n",
       "\n",
       "    .dataframe tbody tr th {\n",
       "        vertical-align: top;\n",
       "    }\n",
       "\n",
       "    .dataframe thead th {\n",
       "        text-align: right;\n",
       "    }\n",
       "</style>\n",
       "<table border=\"1\" class=\"dataframe\">\n",
       "  <thead>\n",
       "    <tr style=\"text-align: right;\">\n",
       "      <th></th>\n",
       "      <th>y_true</th>\n",
       "      <th>y_pred</th>\n",
       "      <th>differ</th>\n",
       "    </tr>\n",
       "  </thead>\n",
       "  <tbody>\n",
       "    <tr>\n",
       "      <th>93</th>\n",
       "      <td>300.0</td>\n",
       "      <td>257.024567</td>\n",
       "      <td>42.975433</td>\n",
       "    </tr>\n",
       "    <tr>\n",
       "      <th>134</th>\n",
       "      <td>250.0</td>\n",
       "      <td>222.016190</td>\n",
       "      <td>27.983810</td>\n",
       "    </tr>\n",
       "    <tr>\n",
       "      <th>18</th>\n",
       "      <td>220.0</td>\n",
       "      <td>210.987030</td>\n",
       "      <td>9.012970</td>\n",
       "    </tr>\n",
       "    <tr>\n",
       "      <th>45</th>\n",
       "      <td>180.0</td>\n",
       "      <td>155.149109</td>\n",
       "      <td>24.850891</td>\n",
       "    </tr>\n",
       "    <tr>\n",
       "      <th>174</th>\n",
       "      <td>220.0</td>\n",
       "      <td>237.146484</td>\n",
       "      <td>-17.146484</td>\n",
       "    </tr>\n",
       "    <tr>\n",
       "      <th>68</th>\n",
       "      <td>270.0</td>\n",
       "      <td>267.475250</td>\n",
       "      <td>2.524750</td>\n",
       "    </tr>\n",
       "    <tr>\n",
       "      <th>129</th>\n",
       "      <td>300.0</td>\n",
       "      <td>192.905136</td>\n",
       "      <td>107.094864</td>\n",
       "    </tr>\n",
       "    <tr>\n",
       "      <th>158</th>\n",
       "      <td>260.0</td>\n",
       "      <td>217.796539</td>\n",
       "      <td>42.203461</td>\n",
       "    </tr>\n",
       "    <tr>\n",
       "      <th>140</th>\n",
       "      <td>250.0</td>\n",
       "      <td>241.881439</td>\n",
       "      <td>8.118561</td>\n",
       "    </tr>\n",
       "    <tr>\n",
       "      <th>75</th>\n",
       "      <td>330.0</td>\n",
       "      <td>233.931549</td>\n",
       "      <td>96.068451</td>\n",
       "    </tr>\n",
       "  </tbody>\n",
       "</table>\n",
       "</div>"
      ],
      "text/plain": [
       "     y_true      y_pred      differ\n",
       "93    300.0  257.024567   42.975433\n",
       "134   250.0  222.016190   27.983810\n",
       "18    220.0  210.987030    9.012970\n",
       "45    180.0  155.149109   24.850891\n",
       "174   220.0  237.146484  -17.146484\n",
       "68    270.0  267.475250    2.524750\n",
       "129   300.0  192.905136  107.094864\n",
       "158   260.0  217.796539   42.203461\n",
       "140   250.0  241.881439    8.118561\n",
       "75    330.0  233.931549   96.068451"
      ]
     },
     "execution_count": 82,
     "metadata": {},
     "output_type": "execute_result"
    }
   ],
   "source": [
    "xgb.fit(X_train,y_train)\n",
    "y_pred = xgb.predict(X_test)\n",
    "dfp = pd.DataFrame()\n",
    "dfp[\"y_true\"] = y_test\n",
    "dfp[\"y_pred\"] = y_pred\n",
    "dfp[\"differ\"] = y_test - y_pred\n",
    "print(mean_absolute_error(y_test,y_pred))\n",
    "print(mean_squared_error(y_test,y_pred))\n",
    "dfp.head(10)"
   ]
  },
  {
   "cell_type": "markdown",
   "id": "d8286c0f-a0ac-4344-a9e5-5afce10fa8e8",
   "metadata": {},
   "source": [
    "Даная моель уже лучше справляется с более высокими значениями целевой переменной."
   ]
  },
  {
   "cell_type": "markdown",
   "id": "994ced0e-8dc5-4a95-bc25-951c0b7d71e2",
   "metadata": {},
   "source": [
    "<h5>Вывод:</h5>\n",
    "    В целом ансамблевые модели достаточно не плохоо справились с задачей. Для улучшения качества необходимо больше данных (нужно накопить большую базу вакансий). Так же можно пересмотреть солова отображеия признаков"
   ]
  },
  {
   "cell_type": "code",
   "execution_count": null,
   "id": "7c2ced7b-792b-4727-ad1d-cde0a01ceb83",
   "metadata": {},
   "outputs": [],
   "source": []
  }
 ],
 "metadata": {
  "kernelspec": {
   "display_name": "Python 3 (ipykernel)",
   "language": "python",
   "name": "python3"
  },
  "language_info": {
   "codemirror_mode": {
    "name": "ipython",
    "version": 3
   },
   "file_extension": ".py",
   "mimetype": "text/x-python",
   "name": "python",
   "nbconvert_exporter": "python",
   "pygments_lexer": "ipython3",
   "version": "3.10.0"
  }
 },
 "nbformat": 4,
 "nbformat_minor": 5
}
